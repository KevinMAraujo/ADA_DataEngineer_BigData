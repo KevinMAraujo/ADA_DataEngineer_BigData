{
 "cells": [
  {
   "cell_type": "markdown",
   "metadata": {
    "application/vnd.databricks.v1+cell": {
     "cellMetadata": {
      "byteLimit": 2048000,
      "rowLimit": 10000
     },
     "inputWidgets": {},
     "nuid": "fc75f339-455f-4e37-ab16-b97de3a2e9ee",
     "showTitle": false,
     "title": ""
    }
   },
   "source": [
    "# Projeto Final | Big Data\n",
    "----\n",
    "**Desenvolvimento e Avaliação de uma Arquitetura Distribuída para um Relatório de Saldo Mensal da Conta**"
   ]
  },
  {
   "cell_type": "markdown",
   "metadata": {
    "application/vnd.databricks.v1+cell": {
     "cellMetadata": {
      "byteLimit": 2048000,
      "rowLimit": 10000
     },
     "inputWidgets": {},
     "nuid": "0cf703be-db69-4e92-8c92-f1999ece780c",
     "showTitle": false,
     "title": ""
    }
   },
   "source": [
    "## Load Functions and variables"
   ]
  },
  {
   "cell_type": "markdown",
   "metadata": {
    "application/vnd.databricks.v1+cell": {
     "cellMetadata": {
      "byteLimit": 2048000,
      "rowLimit": 10000
     },
     "inputWidgets": {},
     "nuid": "5951ca83-e64d-4b6d-b695-60749c3bd093",
     "showTitle": false,
     "title": ""
    }
   },
   "source": [
    "Funções para testar a qualidade dos dados (Great Expectations)"
   ]
  },
  {
   "cell_type": "code",
   "execution_count": 0,
   "metadata": {
    "application/vnd.databricks.v1+cell": {
     "cellMetadata": {
      "byteLimit": 2048000,
      "rowLimit": 10000
     },
     "inputWidgets": {},
     "nuid": "849c8615-6d02-45c8-9d5a-803efb4c03d9",
     "showTitle": false,
     "title": ""
    }
   },
   "outputs": [
    {
     "output_type": "stream",
     "name": "stdout",
     "output_type": "stream",
     "text": [
      "Python interpreter will be restarted.\nCollecting great-expectations\n  Downloading great_expectations-0.18.13-py3-none-any.whl (5.4 MB)\nCollecting marshmallow<4.0.0,>=3.7.1\n  Downloading marshmallow-3.21.2-py3-none-any.whl (49 kB)\nCollecting makefun<2,>=1.7.0\n  Downloading makefun-1.15.2-py2.py3-none-any.whl (22 kB)\nRequirement already satisfied: urllib3>=1.26 in /databricks/python3/lib/python3.9/site-packages (from great-expectations) (1.26.9)\nRequirement already satisfied: ipywidgets>=7.5.1 in /databricks/python3/lib/python3.9/site-packages (from great-expectations) (7.7.2)\nRequirement already satisfied: packaging in /databricks/python3/lib/python3.9/site-packages (from great-expectations) (21.3)\nRequirement already satisfied: Ipython>=7.16.3 in /databricks/python3/lib/python3.9/site-packages (from great-expectations) (8.5.0)\nRequirement already satisfied: requests>=2.20 in /databricks/python3/lib/python3.9/site-packages (from great-expectations) (2.27.1)\nRequirement already satisfied: typing-extensions>=3.10.0.0 in /databricks/python3/lib/python3.9/site-packages (from great-expectations) (4.1.1)\nRequirement already satisfied: pytz>=2021.3 in /databricks/python3/lib/python3.9/site-packages (from great-expectations) (2021.3)\nCollecting tzlocal>=1.2\n  Downloading tzlocal-5.2-py3-none-any.whl (17 kB)\nCollecting numpy<2.0.0,>=1.21.6\n  Downloading numpy-1.26.4-cp39-cp39-manylinux_2_17_x86_64.manylinux2014_x86_64.whl (18.2 MB)\nRequirement already satisfied: jinja2>=2.10 in /databricks/python3/lib/python3.9/site-packages (from great-expectations) (2.11.3)\nRequirement already satisfied: jsonschema>=2.5.1 in /databricks/python3/lib/python3.9/site-packages (from great-expectations) (4.4.0)\nCollecting colorama>=0.4.3\n  Downloading colorama-0.4.6-py2.py3-none-any.whl (25 kB)\nCollecting jsonpatch>=1.22\n  Downloading jsonpatch-1.33-py2.py3-none-any.whl (12 kB)\nCollecting altair<5.0.0,>=4.2.1\n  Downloading altair-4.2.2-py3-none-any.whl (813 kB)\nCollecting pydantic>=1.9.2\n  Downloading pydantic-2.7.1-py3-none-any.whl (409 kB)\nRequirement already satisfied: cryptography>=3.2 in /databricks/python3/lib/python3.9/site-packages (from great-expectations) (3.4.8)\nRequirement already satisfied: Click>=7.1.2 in /databricks/python3/lib/python3.9/site-packages (from great-expectations) (8.0.4)\nRequirement already satisfied: nbformat>=5.0 in /databricks/python3/lib/python3.9/site-packages (from great-expectations) (5.3.0)\nRequirement already satisfied: pandas>=1.1.3 in /databricks/python3/lib/python3.9/site-packages (from great-expectations) (1.4.2)\nRequirement already satisfied: python-dateutil>=2.8.1 in /databricks/python3/lib/python3.9/site-packages (from great-expectations) (2.8.2)\nRequirement already satisfied: mistune>=0.8.4 in /databricks/python3/lib/python3.9/site-packages (from great-expectations) (0.8.4)\nCollecting ruamel.yaml<0.17.18,>=0.16\n  Downloading ruamel.yaml-0.17.17-py3-none-any.whl (109 kB)\nCollecting notebook>=6.4.10\n  Downloading notebook-7.2.0-py3-none-any.whl (5.0 MB)\nCollecting tqdm>=4.59.0\n  Downloading tqdm-4.66.4-py3-none-any.whl (78 kB)\nRequirement already satisfied: scipy>=1.6.0 in /databricks/python3/lib/python3.9/site-packages (from great-expectations) (1.7.3)\nRequirement already satisfied: pyparsing>=2.4 in /databricks/python3/lib/python3.9/site-packages (from great-expectations) (3.0.4)\nCollecting toolz\n  Downloading toolz-0.12.1-py3-none-any.whl (56 kB)\nRequirement already satisfied: entrypoints in /databricks/python3/lib/python3.9/site-packages (from altair<5.0.0,>=4.2.1->great-expectations) (0.4)\nRequirement already satisfied: cffi>=1.12 in /databricks/python3/lib/python3.9/site-packages (from cryptography>=3.2->great-expectations) (1.15.0)\nRequirement already satisfied: pycparser in /databricks/python3/lib/python3.9/site-packages (from cffi>=1.12->cryptography>=3.2->great-expectations) (2.21)\nRequirement already satisfied: prompt-toolkit<3.1.0,>3.0.1 in /databricks/python3/lib/python3.9/site-packages (from Ipython>=7.16.3->great-expectations) (3.0.20)\nRequirement already satisfied: pygments>=2.4.0 in /databricks/python3/lib/python3.9/site-packages (from Ipython>=7.16.3->great-expectations) (2.11.2)\nRequirement already satisfied: pexpect>4.3 in /databricks/python3/lib/python3.9/site-packages (from Ipython>=7.16.3->great-expectations) (4.8.0)\nRequirement already satisfied: traitlets>=5 in /databricks/python3/lib/python3.9/site-packages (from Ipython>=7.16.3->great-expectations) (5.1.1)\nRequirement already satisfied: decorator in /databricks/python3/lib/python3.9/site-packages (from Ipython>=7.16.3->great-expectations) (5.1.1)\nRequirement already satisfied: stack-data in /databricks/python3/lib/python3.9/site-packages (from Ipython>=7.16.3->great-expectations) (0.2.0)\nRequirement already satisfied: backcall in /databricks/python3/lib/python3.9/site-packages (from Ipython>=7.16.3->great-expectations) (0.2.0)\nRequirement already satisfied: jedi>=0.16 in /databricks/python3/lib/python3.9/site-packages (from Ipython>=7.16.3->great-expectations) (0.18.1)\nRequirement already satisfied: pickleshare in /databricks/python3/lib/python3.9/site-packages (from Ipython>=7.16.3->great-expectations) (0.7.5)\nRequirement already satisfied: matplotlib-inline in /databricks/python3/lib/python3.9/site-packages (from Ipython>=7.16.3->great-expectations) (0.1.2)\nRequirement already satisfied: widgetsnbextension~=3.6.0 in /databricks/python3/lib/python3.9/site-packages (from ipywidgets>=7.5.1->great-expectations) (3.6.1)\nRequirement already satisfied: jupyterlab-widgets<3,>=1.0.0 in /databricks/python3/lib/python3.9/site-packages (from ipywidgets>=7.5.1->great-expectations) (1.0.0)\nRequirement already satisfied: ipython-genutils~=0.2.0 in /databricks/python3/lib/python3.9/site-packages (from ipywidgets>=7.5.1->great-expectations) (0.2.0)\nRequirement already satisfied: ipykernel>=4.5.1 in /databricks/python3/lib/python3.9/site-packages (from ipywidgets>=7.5.1->great-expectations) (6.15.3)\nRequirement already satisfied: tornado>=6.1 in /databricks/python3/lib/python3.9/site-packages (from ipykernel>=4.5.1->ipywidgets>=7.5.1->great-expectations) (6.1)\nRequirement already satisfied: pyzmq>=17 in /databricks/python3/lib/python3.9/site-packages (from ipykernel>=4.5.1->ipywidgets>=7.5.1->great-expectations) (22.3.0)\nRequirement already satisfied: jupyter-client>=6.1.12 in /databricks/python3/lib/python3.9/site-packages (from ipykernel>=4.5.1->ipywidgets>=7.5.1->great-expectations) (6.1.12)\nRequirement already satisfied: debugpy>=1.0 in /databricks/python3/lib/python3.9/site-packages (from ipykernel>=4.5.1->ipywidgets>=7.5.1->great-expectations) (1.5.1)\nRequirement already satisfied: nest-asyncio in /databricks/python3/lib/python3.9/site-packages (from ipykernel>=4.5.1->ipywidgets>=7.5.1->great-expectations) (1.5.5)\nRequirement already satisfied: psutil in /databricks/python3/lib/python3.9/site-packages (from ipykernel>=4.5.1->ipywidgets>=7.5.1->great-expectations) (5.8.0)\nRequirement already satisfied: parso<0.9.0,>=0.8.0 in /databricks/python3/lib/python3.9/site-packages (from jedi>=0.16->Ipython>=7.16.3->great-expectations) (0.8.3)\nRequirement already satisfied: MarkupSafe>=0.23 in /databricks/python3/lib/python3.9/site-packages (from jinja2>=2.10->great-expectations) (2.0.1)\nCollecting jsonpointer>=1.9\n  Downloading jsonpointer-2.4-py2.py3-none-any.whl (7.8 kB)\nRequirement already satisfied: attrs>=17.4.0 in /databricks/python3/lib/python3.9/site-packages (from jsonschema>=2.5.1->great-expectations) (21.4.0)\nRequirement already satisfied: pyrsistent!=0.17.0,!=0.17.1,!=0.17.2,>=0.14.0 in /databricks/python3/lib/python3.9/site-packages (from jsonschema>=2.5.1->great-expectations) (0.18.0)\nRequirement already satisfied: jupyter-core>=4.6.0 in /databricks/python3/lib/python3.9/site-packages (from jupyter-client>=6.1.12->ipykernel>=4.5.1->ipywidgets>=7.5.1->great-expectations) (4.11.2)\nRequirement already satisfied: fastjsonschema in /databricks/python3/lib/python3.9/site-packages (from nbformat>=5.0->great-expectations) (2.16.2)\nCollecting jupyterlab-server<3,>=2.27.1\n  Downloading jupyterlab_server-2.27.1-py3-none-any.whl (59 kB)\nCollecting tornado>=6.1\n  Downloading tornado-6.4-cp38-abi3-manylinux_2_5_x86_64.manylinux1_x86_64.manylinux_2_17_x86_64.manylinux2014_x86_64.whl (435 kB)\nCollecting jupyterlab<4.3,>=4.2.0\n  Downloading jupyterlab-4.2.0-py3-none-any.whl (11.6 MB)\nCollecting notebook-shim<0.3,>=0.2\n  Downloading notebook_shim-0.2.4-py3-none-any.whl (13 kB)\nCollecting jupyter-server<3,>=2.4.0\n  Downloading jupyter_server-2.14.0-py3-none-any.whl (383 kB)\nCollecting jupyter-server-terminals>=0.4.4\n  Downloading jupyter_server_terminals-0.5.3-py3-none-any.whl (13 kB)\nCollecting websocket-client>=1.7\n  Downloading websocket_client-1.8.0-py3-none-any.whl (58 kB)\nCollecting jupyter-events>=0.9.0\n  Downloading jupyter_events-0.10.0-py3-none-any.whl (18 kB)\nRequirement already satisfied: argon2-cffi>=21.1 in /databricks/python3/lib/python3.9/site-packages (from jupyter-server<3,>=2.4.0->notebook>=6.4.10->great-expectations) (21.3.0)\nRequirement already satisfied: nbconvert>=6.4.4 in /databricks/python3/lib/python3.9/site-packages (from jupyter-server<3,>=2.4.0->notebook>=6.4.10->great-expectations) (6.4.4)\nCollecting pyzmq>=17\n  Downloading pyzmq-26.0.3-cp39-cp39-manylinux_2_12_x86_64.manylinux2010_x86_64.whl (912 kB)\nCollecting jinja2>=2.10\n  Downloading jinja2-3.1.4-py3-none-any.whl (133 kB)\nRequirement already satisfied: terminado>=0.8.3 in /databricks/python3/lib/python3.9/site-packages (from jupyter-server<3,>=2.4.0->notebook>=6.4.10->great-expectations) (0.13.1)\nCollecting jupyter-core>=4.6.0\n  Downloading jupyter_core-5.7.2-py3-none-any.whl (28 kB)\nCollecting traitlets>=5\n  Downloading traitlets-5.14.3-py3-none-any.whl (85 kB)\nRequirement already satisfied: prometheus-client>=0.9 in /databricks/python3/lib/python3.9/site-packages (from jupyter-server<3,>=2.4.0->notebook>=6.4.10->great-expectations) (0.13.1)\nCollecting send2trash>=1.8.2\n  Downloading Send2Trash-1.8.3-py3-none-any.whl (18 kB)\nCollecting jupyter-client>=6.1.12\n  Downloading jupyter_client-8.6.1-py3-none-any.whl (105 kB)\nCollecting packaging\n  Downloading packaging-24.0-py3-none-any.whl (53 kB)\nCollecting overrides>=5.0\n  Downloading overrides-7.7.0-py3-none-any.whl (17 kB)\nCollecting anyio>=3.1.0\n  Downloading anyio-4.3.0-py3-none-any.whl (85 kB)\nRequirement already satisfied: idna>=2.8 in /databricks/python3/lib/python3.9/site-packages (from anyio>=3.1.0->jupyter-server<3,>=2.4.0->notebook>=6.4.10->great-expectations) (3.3)\nCollecting exceptiongroup>=1.0.2\n  Downloading exceptiongroup-1.2.1-py3-none-any.whl (16 kB)\nCollecting sniffio>=1.1\n  Downloading sniffio-1.3.1-py3-none-any.whl (10 kB)\nRequirement already satisfied: argon2-cffi-bindings in /databricks/python3/lib/python3.9/site-packages (from argon2-cffi>=21.1->jupyter-server<3,>=2.4.0->notebook>=6.4.10->great-expectations) (21.2.0)\nCollecting importlib-metadata>=4.8.3\n  Downloading importlib_metadata-7.1.0-py3-none-any.whl (24 kB)\nCollecting zipp>=0.5\n  Downloading zipp-3.18.2-py3-none-any.whl (8.3 kB)\nRequirement already satisfied: platformdirs>=2.5 in /usr/local/lib/python3.9/dist-packages (from jupyter-core>=4.6.0->jupyter-client>=6.1.12->ipykernel>=4.5.1->ipywidgets>=7.5.1->great-expectations) (2.6.2)\nCollecting rfc3339-validator\n  Downloading rfc3339_validator-0.1.4-py2.py3-none-any.whl (3.5 kB)\nCollecting referencing\n  Downloading referencing-0.35.1-py3-none-any.whl (26 kB)\nCollecting jsonschema[format-nongpl]>=4.18.0\n  Downloading jsonschema-4.22.0-py3-none-any.whl (88 kB)\nCollecting pyyaml>=5.3\n  Downloading PyYAML-6.0.1-cp39-cp39-manylinux_2_17_x86_64.manylinux2014_x86_64.whl (738 kB)\nCollecting python-json-logger>=2.0.4\n  Downloading python_json_logger-2.0.7-py3-none-any.whl (8.1 kB)\nCollecting rfc3986-validator>=0.1.1\n  Downloading rfc3986_validator-0.1.1-py2.py3-none-any.whl (4.2 kB)\nCollecting rpds-py>=0.7.1\n  Downloading rpds_py-0.18.1-cp39-cp39-manylinux_2_17_x86_64.manylinux2014_x86_64.whl (1.1 MB)\nCollecting jsonschema-specifications>=2023.03.6\n  Downloading jsonschema_specifications-2023.12.1-py3-none-any.whl (18 kB)\nCollecting attrs>=17.4.0\n  Downloading attrs-23.2.0-py3-none-any.whl (60 kB)\nCollecting uri-template\n  Downloading uri_template-1.3.0-py3-none-any.whl (11 kB)\nCollecting webcolors>=1.11\n  Downloading webcolors-1.13-py3-none-any.whl (14 kB)\nCollecting fqdn\n  Downloading fqdn-1.5.1-py3-none-any.whl (9.1 kB)\nCollecting isoduration\n  Downloading isoduration-20.11.0-py3-none-any.whl (11 kB)\nRequirement already satisfied: tomli>=1.2.2 in /databricks/python3/lib/python3.9/site-packages (from jupyterlab<4.3,>=4.2.0->notebook>=6.4.10->great-expectations) (1.2.2)\nCollecting httpx>=0.25.0\n  Downloading httpx-0.27.0-py3-none-any.whl (75 kB)\nCollecting jupyter-lsp>=2.0.0\n  Downloading jupyter_lsp-2.2.5-py3-none-any.whl (69 kB)\nCollecting async-lru>=1.0.0\n  Downloading async_lru-2.0.4-py3-none-any.whl (6.1 kB)\nCollecting httpcore==1.*\n  Downloading httpcore-1.0.5-py3-none-any.whl (77 kB)\nRequirement already satisfied: certifi in /databricks/python3/lib/python3.9/site-packages (from httpx>=0.25.0->jupyterlab<4.3,>=4.2.0->notebook>=6.4.10->great-expectations) (2021.10.8)\nCollecting h11<0.15,>=0.13\n  Downloading h11-0.14.0-py3-none-any.whl (58 kB)\nCollecting babel>=2.10\n  Downloading Babel-2.15.0-py3-none-any.whl (9.6 MB)\nCollecting json5>=0.9.0\n  Downloading json5-0.9.25-py3-none-any.whl (30 kB)\nCollecting requests>=2.20\n  Downloading requests-2.32.2-py3-none-any.whl (63 kB)\nRequirement already satisfied: pandocfilters>=1.4.1 in /databricks/python3/lib/python3.9/site-packages (from nbconvert>=6.4.4->jupyter-server<3,>=2.4.0->notebook>=6.4.10->great-expectations) (1.5.0)\nRequirement already satisfied: defusedxml in /databricks/python3/lib/python3.9/site-packages (from nbconvert>=6.4.4->jupyter-server<3,>=2.4.0->notebook>=6.4.10->great-expectations) (0.7.1)\nRequirement already satisfied: nbclient<0.6.0,>=0.5.0 in /databricks/python3/lib/python3.9/site-packages (from nbconvert>=6.4.4->jupyter-server<3,>=2.4.0->notebook>=6.4.10->great-expectations) (0.5.13)\nRequirement already satisfied: testpath in /databricks/python3/lib/python3.9/site-packages (from nbconvert>=6.4.4->jupyter-server<3,>=2.4.0->notebook>=6.4.10->great-expectations) (0.5.0)\nRequirement already satisfied: beautifulsoup4 in /databricks/python3/lib/python3.9/site-packages (from nbconvert>=6.4.4->jupyter-server<3,>=2.4.0->notebook>=6.4.10->great-expectations) (4.11.1)\nRequirement already satisfied: bleach in /databricks/python3/lib/python3.9/site-packages (from nbconvert>=6.4.4->jupyter-server<3,>=2.4.0->notebook>=6.4.10->great-expectations) (4.1.0)\nRequirement already satisfied: jupyterlab-pygments in /databricks/python3/lib/python3.9/site-packages (from nbconvert>=6.4.4->jupyter-server<3,>=2.4.0->notebook>=6.4.10->great-expectations) (0.1.2)\nRequirement already satisfied: ptyprocess>=0.5 in /databricks/python3/lib/python3.9/site-packages (from pexpect>4.3->Ipython>=7.16.3->great-expectations) (0.7.0)\nRequirement already satisfied: wcwidth in /databricks/python3/lib/python3.9/site-packages (from prompt-toolkit<3.1.0,>3.0.1->Ipython>=7.16.3->great-expectations) (0.2.5)\nCollecting annotated-types>=0.4.0\n  Downloading annotated_types-0.7.0-py3-none-any.whl (13 kB)\nCollecting typing-extensions>=3.10.0.0\n  Downloading typing_extensions-4.11.0-py3-none-any.whl (34 kB)\nCollecting pydantic-core==2.18.2\n  Downloading pydantic_core-2.18.2-cp39-cp39-manylinux_2_17_x86_64.manylinux2014_x86_64.whl (2.1 MB)\nRequirement already satisfied: six>=1.5 in /databricks/python3/lib/python3.9/site-packages (from python-dateutil>=2.8.1->great-expectations) (1.16.0)\nRequirement already satisfied: charset-normalizer<4,>=2 in /databricks/python3/lib/python3.9/site-packages (from requests>=2.20->great-expectations) (2.0.4)\nCollecting ruamel.yaml.clib>=0.1.2\n  Downloading ruamel.yaml.clib-0.2.8-cp39-cp39-manylinux_2_5_x86_64.manylinux1_x86_64.whl (562 kB)\nCollecting numpy<2.0.0,>=1.21.6\n  Downloading numpy-1.22.4-cp39-cp39-manylinux_2_17_x86_64.manylinux2014_x86_64.whl (16.8 MB)\nRequirement already satisfied: soupsieve>1.2 in /databricks/python3/lib/python3.9/site-packages (from beautifulsoup4->nbconvert>=6.4.4->jupyter-server<3,>=2.4.0->notebook>=6.4.10->great-expectations) (2.3.1)\nRequirement already satisfied: webencodings in /databricks/python3/lib/python3.9/site-packages (from bleach->nbconvert>=6.4.4->jupyter-server<3,>=2.4.0->notebook>=6.4.10->great-expectations) (0.5.1)\nCollecting arrow>=0.15.0\n  Downloading arrow-1.3.0-py3-none-any.whl (66 kB)\nCollecting types-python-dateutil>=2.8.10\n  Downloading types_python_dateutil-2.9.0.20240316-py3-none-any.whl (9.7 kB)\nRequirement already satisfied: pure-eval in /databricks/python3/lib/python3.9/site-packages (from stack-data->Ipython>=7.16.3->great-expectations) (0.2.2)\nRequirement already satisfied: asttokens in /databricks/python3/lib/python3.9/site-packages (from stack-data->Ipython>=7.16.3->great-expectations) (2.0.5)\nRequirement already satisfied: executing in /databricks/python3/lib/python3.9/site-packages (from stack-data->Ipython>=7.16.3->great-expectations) (0.8.3)\nInstalling collected packages: rpds-py, attrs, referencing, zipp, types-python-dateutil, traitlets, jsonschema-specifications, tornado, pyzmq, jupyter-core, jsonschema, importlib-metadata, arrow, webcolors, uri-template, rfc3986-validator, rfc3339-validator, packaging, jupyter-client, jsonpointer, isoduration, fqdn, typing-extensions, sniffio, pyyaml, python-json-logger, jinja2, exceptiongroup, websocket-client, send2trash, overrides, jupyter-server-terminals, jupyter-events, h11, anyio, requests, jupyter-server, json5, httpcore, babel, notebook-shim, jupyterlab-server, jupyter-lsp, httpx, async-lru, jupyterlab, numpy, notebook, toolz, ruamel.yaml.clib, pydantic-core, annotated-types, tzlocal, tqdm, ruamel.yaml, pydantic, marshmallow, makefun, jsonpatch, colorama, altair, great-expectations\n  Attempting uninstall: attrs\n    Found existing installation: attrs 21.4.0\n    Not uninstalling attrs at /databricks/python3/lib/python3.9/site-packages, outside environment /local_disk0/.ephemeral_nfs/envs/pythonEnv-d1777e74-aeef-4395-9603-bf61a78a056e\n    Can't uninstall 'attrs'. No files were found to uninstall.\n  Attempting uninstall: traitlets\n    Found existing installation: traitlets 5.1.1\n    Not uninstalling traitlets at /databricks/python3/lib/python3.9/site-packages, outside environment /local_disk0/.ephemeral_nfs/envs/pythonEnv-d1777e74-aeef-4395-9603-bf61a78a056e\n    Can't uninstall 'traitlets'. No files were found to uninstall.\n  Attempting uninstall: tornado\n    Found existing installation: tornado 6.1\n    Not uninstalling tornado at /databricks/python3/lib/python3.9/site-packages, outside environment /local_disk0/.ephemeral_nfs/envs/pythonEnv-d1777e74-aeef-4395-9603-bf61a78a056e\n    Can't uninstall 'tornado'. No files were found to uninstall.\n  Attempting uninstall: pyzmq\n    Found existing installation: pyzmq 22.3.0\n    Not uninstalling pyzmq at /databricks/python3/lib/python3.9/site-packages, outside environment /local_disk0/.ephemeral_nfs/envs/pythonEnv-d1777e74-aeef-4395-9603-bf61a78a056e\n    Can't uninstall 'pyzmq'. No files were found to uninstall.\n  Attempting uninstall: jupyter-core\n    Found existing installation: jupyter-core 4.11.2\n    Not uninstalling jupyter-core at /databricks/python3/lib/python3.9/site-packages, outside environment /local_disk0/.ephemeral_nfs/envs/pythonEnv-d1777e74-aeef-4395-9603-bf61a78a056e\n    Can't uninstall 'jupyter-core'. No files were found to uninstall.\n  Attempting uninstall: jsonschema\n    Found existing installation: jsonschema 4.4.0\n    Not uninstalling jsonschema at /databricks/python3/lib/python3.9/site-packages, outside environment /local_disk0/.ephemeral_nfs/envs/pythonEnv-d1777e74-aeef-4395-9603-bf61a78a056e\n    Can't uninstall 'jsonschema'. No files were found to uninstall.\n  Attempting uninstall: packaging\n    Found existing installation: packaging 21.3\n    Not uninstalling packaging at /databricks/python3/lib/python3.9/site-packages, outside environment /local_disk0/.ephemeral_nfs/envs/pythonEnv-d1777e74-aeef-4395-9603-bf61a78a056e\n    Can't uninstall 'packaging'. No files were found to uninstall.\n  Attempting uninstall: jupyter-client\n    Found existing installation: jupyter-client 6.1.12\n    Not uninstalling jupyter-client at /databricks/python3/lib/python3.9/site-packages, outside environment /local_disk0/.ephemeral_nfs/envs/pythonEnv-d1777e74-aeef-4395-9603-bf61a78a056e\n    Can't uninstall 'jupyter-client'. No files were found to uninstall.\n  Attempting uninstall: typing-extensions\n    Found existing installation: typing-extensions 4.1.1\n    Not uninstalling typing-extensions at /databricks/python3/lib/python3.9/site-packages, outside environment /local_disk0/.ephemeral_nfs/envs/pythonEnv-d1777e74-aeef-4395-9603-bf61a78a056e\n    Can't uninstall 'typing-extensions'. No files were found to uninstall.\n  Attempting uninstall: jinja2\n    Found existing installation: Jinja2 2.11.3\n    Not uninstalling jinja2 at /databricks/python3/lib/python3.9/site-packages, outside environment /local_disk0/.ephemeral_nfs/envs/pythonEnv-d1777e74-aeef-4395-9603-bf61a78a056e\n    Can't uninstall 'Jinja2'. No files were found to uninstall.\n  Attempting uninstall: send2trash\n    Found existing installation: Send2Trash 1.8.0\n    Not uninstalling send2trash at /databricks/python3/lib/python3.9/site-packages, outside environment /local_disk0/.ephemeral_nfs/envs/pythonEnv-d1777e74-aeef-4395-9603-bf61a78a056e\n    Can't uninstall 'Send2Trash'. No files were found to uninstall.\n  Attempting uninstall: requests\n    Found existing installation: requests 2.27.1\n    Not uninstalling requests at /databricks/python3/lib/python3.9/site-packages, outside environment /local_disk0/.ephemeral_nfs/envs/pythonEnv-d1777e74-aeef-4395-9603-bf61a78a056e\n    Can't uninstall 'requests'. No files were found to uninstall.\n  Attempting uninstall: numpy\n    Found existing installation: numpy 1.21.5\n    Not uninstalling numpy at /databricks/python3/lib/python3.9/site-packages, outside environment /local_disk0/.ephemeral_nfs/envs/pythonEnv-d1777e74-aeef-4395-9603-bf61a78a056e\n    Can't uninstall 'numpy'. No files were found to uninstall.\n  Attempting uninstall: notebook\n    Found existing installation: notebook 6.4.8\n    Not uninstalling notebook at /databricks/python3/lib/python3.9/site-packages, outside environment /local_disk0/.ephemeral_nfs/envs/pythonEnv-d1777e74-aeef-4395-9603-bf61a78a056e\n    Can't uninstall 'notebook'. No files were found to uninstall.\nSuccessfully installed altair-4.2.2 annotated-types-0.7.0 anyio-4.3.0 arrow-1.3.0 async-lru-2.0.4 attrs-23.2.0 babel-2.15.0 colorama-0.4.6 exceptiongroup-1.2.1 fqdn-1.5.1 great-expectations-0.18.13 h11-0.14.0 httpcore-1.0.5 httpx-0.27.0 importlib-metadata-7.1.0 isoduration-20.11.0 jinja2-3.1.4 json5-0.9.25 jsonpatch-1.33 jsonpointer-2.4 jsonschema-4.22.0 jsonschema-specifications-2023.12.1 jupyter-client-8.6.1 jupyter-core-5.7.2 jupyter-events-0.10.0 jupyter-lsp-2.2.5 jupyter-server-2.14.0 jupyter-server-terminals-0.5.3 jupyterlab-4.2.0 jupyterlab-server-2.27.1 makefun-1.15.2 marshmallow-3.21.2 notebook-7.2.0 notebook-shim-0.2.4 numpy-1.22.4 overrides-7.7.0 packaging-24.0 pydantic-2.7.1 pydantic-core-2.18.2 python-json-logger-2.0.7 pyyaml-6.0.1 pyzmq-26.0.3 referencing-0.35.1 requests-2.32.2 rfc3339-validator-0.1.4 rfc3986-validator-0.1.1 rpds-py-0.18.1 ruamel.yaml-0.17.17 ruamel.yaml.clib-0.2.8 send2trash-1.8.3 sniffio-1.3.1 toolz-0.12.1 tornado-6.4 tqdm-4.66.4 traitlets-5.14.3 types-python-dateutil-2.9.0.20240316 typing-extensions-4.11.0 tzlocal-5.2 uri-template-1.3.0 webcolors-1.13 websocket-client-1.8.0 zipp-3.18.2\nPython interpreter will be restarted.\n"
     ]
    }
   ],
   "source": [
    "%run ./modules/data-quality"
   ]
  },
  {
   "cell_type": "markdown",
   "metadata": {
    "application/vnd.databricks.v1+cell": {
     "cellMetadata": {
      "byteLimit": 2048000,
      "rowLimit": 10000
     },
     "inputWidgets": {},
     "nuid": "434e61d3-7d2a-474f-b0a2-55001192a5e9",
     "showTitle": false,
     "title": ""
    }
   },
   "source": [
    "Loading function *create_path* to create folders"
   ]
  },
  {
   "cell_type": "code",
   "execution_count": 0,
   "metadata": {
    "application/vnd.databricks.v1+cell": {
     "cellMetadata": {
      "byteLimit": 2048000,
      "rowLimit": 10000
     },
     "inputWidgets": {},
     "nuid": "5817b3f2-d284-4263-9832-5fae420ef964",
     "showTitle": false,
     "title": ""
    }
   },
   "outputs": [],
   "source": [
    "%run ./modules/utils"
   ]
  },
  {
   "cell_type": "markdown",
   "metadata": {
    "application/vnd.databricks.v1+cell": {
     "cellMetadata": {
      "byteLimit": 2048000,
      "rowLimit": 10000
     },
     "inputWidgets": {},
     "nuid": "b037d742-b91c-464e-a804-91fd3bcbbf70",
     "showTitle": false,
     "title": ""
    }
   },
   "source": [
    "Strings json para criação do schema dos campos atráves da StructType (Bronze e Silver)"
   ]
  },
  {
   "cell_type": "code",
   "execution_count": 0,
   "metadata": {
    "application/vnd.databricks.v1+cell": {
     "cellMetadata": {
      "byteLimit": 2048000,
      "rowLimit": 10000
     },
     "inputWidgets": {},
     "nuid": "e41443af-c5f2-434c-8c89-76a9f2893acc",
     "showTitle": false,
     "title": ""
    }
   },
   "outputs": [],
   "source": [
    "%run ./modules/json_strings"
   ]
  },
  {
   "cell_type": "code",
   "execution_count": 0,
   "metadata": {
    "application/vnd.databricks.v1+cell": {
     "cellMetadata": {
      "byteLimit": 2048000,
      "rowLimit": 10000
     },
     "inputWidgets": {},
     "nuid": "08c6cd08-f929-4d25-b8d2-9ee489070c5b",
     "showTitle": false,
     "title": ""
    }
   },
   "outputs": [],
   "source": [
    "%run ./modules/json_strings_silver"
   ]
  },
  {
   "cell_type": "markdown",
   "metadata": {
    "application/vnd.databricks.v1+cell": {
     "cellMetadata": {
      "byteLimit": 2048000,
      "rowLimit": 10000
     },
     "inputWidgets": {},
     "nuid": "4b5a14d0-dc8d-49a1-9dcf-f4d12902cd39",
     "showTitle": false,
     "title": ""
    }
   },
   "source": [
    "## Load bibs"
   ]
  },
  {
   "cell_type": "code",
   "execution_count": 0,
   "metadata": {
    "application/vnd.databricks.v1+cell": {
     "cellMetadata": {
      "byteLimit": 2048000,
      "rowLimit": 10000
     },
     "inputWidgets": {},
     "nuid": "50791887-028b-4924-8dcf-4e7126b15e40",
     "showTitle": false,
     "title": ""
    }
   },
   "outputs": [],
   "source": [
    "import zipfile\n",
    "import os\n",
    "import json\n",
    "\n",
    "from pyspark.sql.types import StringType, StructType, StructField, IntegerType, DecimalType, LongType, DataType, TimestampType, DoubleType\n",
    "from pyspark.sql.functions import expr, last_day, col, min, max, to_date, current_date, sum, lit, concat, lpad"
   ]
  },
  {
   "cell_type": "markdown",
   "metadata": {
    "application/vnd.databricks.v1+cell": {
     "cellMetadata": {
      "byteLimit": 2048000,
      "rowLimit": 10000
     },
     "inputWidgets": {},
     "nuid": "39882bf1-236e-4ed9-b03e-f6b0352820ef",
     "showTitle": false,
     "title": ""
    }
   },
   "source": [
    "## Load Paths and create dirs"
   ]
  },
  {
   "cell_type": "code",
   "execution_count": 0,
   "metadata": {
    "application/vnd.databricks.v1+cell": {
     "cellMetadata": {
      "byteLimit": 2048000,
      "rowLimit": 10000
     },
     "inputWidgets": {},
     "nuid": "b2ce8678-6186-437a-91ea-d28ab3263e80",
     "showTitle": false,
     "title": ""
    }
   },
   "outputs": [],
   "source": [
    "source_path = '/FileStore/project_report_balance/'\n",
    "\n",
    "landing_path = source_path + 'landing/'\n",
    "bronze_path = source_path + 'bronze/'\n",
    "silver_path = source_path + 'silver/'\n",
    "gold_path = source_path + 'gold/'\n",
    "\n",
    "path_list = [source_path, landing_path, bronze_path, silver_path, gold_path]"
   ]
  },
  {
   "cell_type": "code",
   "execution_count": 0,
   "metadata": {
    "application/vnd.databricks.v1+cell": {
     "cellMetadata": {
      "byteLimit": 2048000,
      "rowLimit": 10000
     },
     "inputWidgets": {},
     "nuid": "89ea341d-c629-45e3-a17d-b8a4be0de5bf",
     "showTitle": false,
     "title": ""
    }
   },
   "outputs": [
    {
     "output_type": "stream",
     "name": "stdout",
     "output_type": "stream",
     "text": [
      "Out[13]: True"
     ]
    }
   ],
   "source": [
    "dbutils.fs.rm(bronze_path, True)\n",
    "dbutils.fs.rm(silver_path, True)\n",
    "dbutils.fs.rm(gold_path, True)"
   ]
  },
  {
   "cell_type": "code",
   "execution_count": 0,
   "metadata": {
    "application/vnd.databricks.v1+cell": {
     "cellMetadata": {
      "byteLimit": 2048000,
      "rowLimit": 10000
     },
     "inputWidgets": {},
     "nuid": "2da2a80e-c1f9-4f55-a5b7-4710dff3a973",
     "showTitle": false,
     "title": ""
    }
   },
   "outputs": [
    {
     "output_type": "stream",
     "name": "stdout",
     "output_type": "stream",
     "text": [
      "\n A pasta project_report_balance foi criada.\n\n A pasta landing foi criada.\n\n A pasta bronze foi criada.\n\n A pasta silver foi criada.\n\n A pasta gold foi criada.\n"
     ]
    }
   ],
   "source": [
    "# create dirs\n",
    "for path in path_list:\n",
    "    create_path(path)"
   ]
  },
  {
   "cell_type": "markdown",
   "metadata": {
    "application/vnd.databricks.v1+cell": {
     "cellMetadata": {
      "byteLimit": 2048000,
      "rowLimit": 10000
     },
     "inputWidgets": {},
     "nuid": "42be0a94-181d-4fb7-90ab-6f92b6529e5a",
     "showTitle": false,
     "title": ""
    }
   },
   "source": [
    "## Landing Zone"
   ]
  },
  {
   "cell_type": "code",
   "execution_count": 0,
   "metadata": {
    "application/vnd.databricks.v1+cell": {
     "cellMetadata": {
      "byteLimit": 2048000,
      "rowLimit": 10000
     },
     "inputWidgets": {},
     "nuid": "45850f82-9798-418f-b421-736da48478e0",
     "showTitle": false,
     "title": ""
    }
   },
   "outputs": [],
   "source": [
    "dir_path_list = ['accounts', 'city', 'country', 'customers', 'd_month', 'd_time', 'd_week', 'd_weekday', 'd_year', 'pix_movements', 'state', 'transfer_ins', 'transfer_outs']"
   ]
  },
  {
   "cell_type": "code",
   "execution_count": 0,
   "metadata": {
    "application/vnd.databricks.v1+cell": {
     "cellMetadata": {
      "byteLimit": 2048000,
      "rowLimit": 10000
     },
     "inputWidgets": {},
     "nuid": "f78a3aea-6e02-444e-985a-30630e6f6e7e",
     "showTitle": false,
     "title": ""
    }
   },
   "outputs": [],
   "source": [
    "for dir_path in dir_path_list:\n",
    "    dbutils.fs.mkdirs(landing_path + dir_path)"
   ]
  },
  {
   "cell_type": "markdown",
   "metadata": {
    "application/vnd.databricks.v1+cell": {
     "cellMetadata": {
      "byteLimit": 2048000,
      "rowLimit": 10000
     },
     "inputWidgets": {},
     "nuid": "7131533d-fa56-4b89-88da-42c1e9b6569f",
     "showTitle": false,
     "title": ""
    }
   },
   "source": [
    "## Bronze layer"
   ]
  },
  {
   "cell_type": "code",
   "execution_count": 0,
   "metadata": {
    "application/vnd.databricks.v1+cell": {
     "cellMetadata": {
      "byteLimit": 2048000,
      "rowLimit": 10000
     },
     "inputWidgets": {},
     "nuid": "b00f2b51-5165-4f5b-b14a-a6fa069a398b",
     "showTitle": false,
     "title": ""
    }
   },
   "outputs": [
    {
     "output_type": "stream",
     "name": "stdout",
     "output_type": "stream",
     "text": [
      "Criando dir accounts na camada Bronze\nSalvando dados em parquet no dir accounts com schema definido\nDados salvos! \n\nCriando dir city na camada Bronze\nSalvando dados em parquet no dir city com schema definido\nDados salvos! \n\nCriando dir country na camada Bronze\nSalvando dados em parquet no dir country com schema definido\nDados salvos! \n\nCriando dir customers na camada Bronze\nSalvando dados em parquet no dir customers com schema definido\nDados salvos! \n\nCriando dir d_month na camada Bronze\nSalvando dados em parquet no dir d_month com schema definido\nDados salvos! \n\nCriando dir d_time na camada Bronze\nSalvando dados em parquet no dir d_time com schema definido\nDados salvos! \n\nCriando dir d_week na camada Bronze\nSalvando dados em parquet no dir d_week com schema definido\nDados salvos! \n\nCriando dir d_weekday na camada Bronze\nSalvando dados em parquet no dir d_weekday com schema definido\nDados salvos! \n\nCriando dir d_year na camada Bronze\nSalvando dados em parquet no dir d_year com schema definido\nDados salvos! \n\nCriando dir pix_movements na camada Bronze\nSalvando dados em parquet no dir pix_movements com schema definido\nDados salvos! \n\nCriando dir state na camada Bronze\nSalvando dados em parquet no dir state com schema definido\nDados salvos! \n\nCriando dir transfer_ins na camada Bronze\nSalvando dados em parquet no dir transfer_ins com schema definido\nDados salvos! \n\nCriando dir transfer_outs na camada Bronze\nSalvando dados em parquet no dir transfer_outs com schema definido\nDados salvos! \n\n"
     ]
    }
   ],
   "source": [
    "## Carregamento dos dados da camada Bronze em parquet com schema definido \n",
    "\n",
    "for dir_name, json_str in zip(dir_path_list, json_str_list):\n",
    "    print(f'Criando dir {dir_name} na camada Bronze')\n",
    "\n",
    "    dir_path = landing_path + dir_name\n",
    "    csv_file_path = [arquivos.path for arquivos in dbutils.fs.ls(dir_path) if arquivos.name.endswith(('.csv', '.CSV'))]\n",
    "\n",
    "    print(f'Salvando dados em parquet no dir {dir_name} com schema definido')\n",
    "\n",
    "    # Loading json schema to create tables\n",
    "    schema_json = StructType.fromJson(json.loads(json_str))\n",
    "\n",
    "    df_csv = (spark.read.csv(csv_file_path[0], sep=',',header=True, schema = schema_json))\n",
    "\n",
    "    path_dir_bronze = bronze_path + dir_name\n",
    "    (df_csv\n",
    "        .write\n",
    "        .option(\"compression\",\"snappy\")\n",
    "        .mode(\"overwrite\")\n",
    "        .parquet(path_dir_bronze))\n",
    "    print('Dados salvos! \\n')"
   ]
  },
  {
   "cell_type": "markdown",
   "metadata": {
    "application/vnd.databricks.v1+cell": {
     "cellMetadata": {
      "byteLimit": 2048000,
      "rowLimit": 10000
     },
     "inputWidgets": {},
     "nuid": "35fe1bbf-48ec-46a3-a4d0-f326eb10fc26",
     "showTitle": false,
     "title": ""
    }
   },
   "source": [
    "## Silver layer"
   ]
  },
  {
   "cell_type": "markdown",
   "metadata": {
    "application/vnd.databricks.v1+cell": {
     "cellMetadata": {
      "byteLimit": 2048000,
      "rowLimit": 10000
     },
     "inputWidgets": {},
     "nuid": "1715dc07-3c9b-4149-a10b-f14c8f791740",
     "showTitle": false,
     "title": ""
    }
   },
   "source": [
    "#### Data Quality (Great Expectations)"
   ]
  },
  {
   "cell_type": "markdown",
   "metadata": {
    "application/vnd.databricks.v1+cell": {
     "cellMetadata": {
      "byteLimit": 2048000,
      "rowLimit": 10000
     },
     "inputWidgets": {},
     "nuid": "8eae9e2c-a6e8-4bf0-a2d9-3dc28a352683",
     "showTitle": false,
     "title": ""
    }
   },
   "source": [
    "###### Verificação de tipo"
   ]
  },
  {
   "cell_type": "code",
   "execution_count": 0,
   "metadata": {
    "application/vnd.databricks.v1+cell": {
     "cellMetadata": {
      "byteLimit": 2048000,
      "rowLimit": 10000
     },
     "inputWidgets": {},
     "nuid": "b87635db-9ae0-454e-850e-7adbd6e84bb2",
     "showTitle": false,
     "title": ""
    }
   },
   "outputs": [
    {
     "output_type": "stream",
     "name": "stdout",
     "output_type": "stream",
     "text": [
      "Tabela analisada: accounts - COLUNAS DATETIME\nA coluna 'created_at' é válida. (Tipo e Valor)\n"
     ]
    }
   ],
   "source": [
    "tables_type = 'accounts'\n",
    "\n",
    "# Carregando dataframe\n",
    "table_path = bronze_path + tables_type\n",
    "df_table = spark.read.parquet(table_path) \n",
    "\n",
    "# Converter o DataFrame Spark em um DataFrame Great Expectations\n",
    "ge_df_table = SparkDFDataset(df_table)\n",
    "\n",
    "# Verificando os tipos das colunas\n",
    "print(f'Tabela analisada: {tables_type} - COLUNAS DATETIME')\n",
    "colunas_datetime = ['created_at']\n",
    "verifica_colunas_datetime(ge_df_table, colunas_datetime)"
   ]
  },
  {
   "cell_type": "markdown",
   "metadata": {
    "application/vnd.databricks.v1+cell": {
     "cellMetadata": {
      "byteLimit": 2048000,
      "rowLimit": 10000
     },
     "inputWidgets": {},
     "nuid": "9872e37b-0fa6-4e16-92e6-b3a18eb176c6",
     "showTitle": false,
     "title": ""
    }
   },
   "source": [
    "###### Verificação de colunas categóricas"
   ]
  },
  {
   "cell_type": "code",
   "execution_count": 0,
   "metadata": {
    "application/vnd.databricks.v1+cell": {
     "cellMetadata": {
      "byteLimit": 2048000,
      "rowLimit": 10000
     },
     "inputWidgets": {},
     "nuid": "485ddb37-151a-41d2-bd02-20ba7a3dd4d1",
     "showTitle": false,
     "title": ""
    }
   },
   "outputs": [],
   "source": [
    "tables_cat = {\n",
    "    'accounts': {\n",
    "        'status': [\"active\", 'inactive']\n",
    "    }, \n",
    "    'pix_movements': {\n",
    "        'status': [\"failed\", 'completed'],\n",
    "        'in_or_out': [\"pix_in\", 'pix_out']\n",
    "    }\n",
    "}"
   ]
  },
  {
   "cell_type": "code",
   "execution_count": 0,
   "metadata": {
    "application/vnd.databricks.v1+cell": {
     "cellMetadata": {
      "byteLimit": 2048000,
      "rowLimit": 10000
     },
     "inputWidgets": {},
     "nuid": "669efa7e-5470-4a2f-b4ad-82b6f70aed24",
     "showTitle": false,
     "title": ""
    }
   },
   "outputs": [
    {
     "output_type": "stream",
     "name": "stdout",
     "output_type": "stream",
     "text": [
      ">>> Tabela analisada: accounts\nOs valores da coluna status contêm apenas valores esperados. (['active', 'inactive'])\n>>> Tabela analisada: pix_movements\nOs valores da coluna status contêm apenas valores esperados. (['failed', 'completed'])\nOs valores da coluna in_or_out contêm apenas valores esperados. (['pix_in', 'pix_out'])\n"
     ]
    }
   ],
   "source": [
    "for table, cols in tables_cat.items():\n",
    "    print(f'>>> Tabela analisada: {table}')\n",
    "    # Carregando dataframe\n",
    "    table_path = bronze_path + table\n",
    "    df_table = spark.read.parquet(table_path) \n",
    "\n",
    "    # Converter o DataFrame Spark em um DataFrame Great Expectations\n",
    "    ge_df_table = SparkDFDataset(df_table)\n",
    "\n",
    "    for col_analisada, valores_esperados in cols.items():\n",
    "        verificar_colunas_categoricas(ge_df_table, col_analisada, valores_esperados)"
   ]
  },
  {
   "cell_type": "markdown",
   "metadata": {
    "application/vnd.databricks.v1+cell": {
     "cellMetadata": {
      "byteLimit": 2048000,
      "rowLimit": 10000
     },
     "inputWidgets": {},
     "nuid": "ff441afa-376f-4512-85bd-17c7ed2ed8ca",
     "showTitle": false,
     "title": ""
    }
   },
   "source": [
    "###### Verificação de colunas ID"
   ]
  },
  {
   "cell_type": "code",
   "execution_count": 0,
   "metadata": {
    "application/vnd.databricks.v1+cell": {
     "cellMetadata": {
      "byteLimit": 2048000,
      "rowLimit": 10000
     },
     "inputWidgets": {},
     "nuid": "001c540e-cc53-4220-9b8a-bcc2e98f1278",
     "showTitle": false,
     "title": ""
    }
   },
   "outputs": [],
   "source": [
    "tables_id = {\n",
    "    'accounts': ['account_id', 'customer_id']\n",
    "    , 'city': [\"state_id\",\"city_id\"]\n",
    "    , 'country': [\"country_id\"]\n",
    "    , 'customers': [\"customer_id\"] \n",
    "    , 'pix_movements': [\"id\",'account_id']\n",
    "}"
   ]
  },
  {
   "cell_type": "code",
   "execution_count": 0,
   "metadata": {
    "application/vnd.databricks.v1+cell": {
     "cellMetadata": {
      "byteLimit": 2048000,
      "rowLimit": 10000
     },
     "inputWidgets": {},
     "nuid": "c56c80ea-618a-4927-a92c-cecaa6be5238",
     "showTitle": false,
     "title": ""
    }
   },
   "outputs": [
    {
     "output_type": "stream",
     "name": "stdout",
     "output_type": "stream",
     "text": [
      ">>> Tabela analisada: accounts\nA coluna 'account_id' é válida. (Tipo e Valor)\nA coluna 'customer_id' é válida. (Tipo e Valor)\n>>> Tabela analisada: city\nA coluna 'state_id' é válida. (Tipo e Valor)\nA coluna 'city_id' é válida. (Tipo e Valor)\n>>> Tabela analisada: country\nA coluna 'country_id' é válida. (Tipo e Valor)\n>>> Tabela analisada: customers\nA coluna 'customer_id' é válida. (Tipo e Valor)\n>>> Tabela analisada: pix_movements\nA coluna 'id' é válida. (Tipo e Valor)\nA coluna 'account_id' é válida. (Tipo e Valor)\n"
     ]
    }
   ],
   "source": [
    "for table, id_cols_list in tables_id.items():\n",
    "    print(f'>>> Tabela analisada: {table}')\n",
    "    # Carregando dataframe\n",
    "    table_path = bronze_path + table\n",
    "    df_table = spark.read.parquet(table_path) \n",
    "\n",
    "    # Converter o DataFrame Spark em um DataFrame Great Expectations\n",
    "    ge_df_table = SparkDFDataset(df_table)\n",
    "\n",
    "    verificar_colunas_id(ge_df_table, id_cols_list)"
   ]
  },
  {
   "cell_type": "markdown",
   "metadata": {
    "application/vnd.databricks.v1+cell": {
     "cellMetadata": {
      "byteLimit": 2048000,
      "rowLimit": 10000
     },
     "inputWidgets": {},
     "nuid": "ec94c71d-f620-4428-9911-7d7b7a59116f",
     "showTitle": false,
     "title": ""
    }
   },
   "source": [
    "###### Verificação de colunas não vazias"
   ]
  },
  {
   "cell_type": "code",
   "execution_count": 0,
   "metadata": {
    "application/vnd.databricks.v1+cell": {
     "cellMetadata": {
      "byteLimit": 2048000,
      "rowLimit": 10000
     },
     "inputWidgets": {},
     "nuid": "7e4deba0-7264-4dae-8722-f215f8985609",
     "showTitle": false,
     "title": ""
    }
   },
   "outputs": [],
   "source": [
    "tables_non_empty  = {\n",
    "    'accounts': ['account_id', 'customer_id', 'account_branch', 'account_check_digit', 'account_number']\n",
    "    , 'city': ['city']\n",
    "    , 'country': ['country']\n",
    "    , 'customers': ['first_name', 'last_name', 'country_name', 'customer_city','cpf']\n",
    "    , 'pix_movements': ['account_id', 'id', 'pix_amount', 'pix_requested_at','pix_completed_at']\n",
    "}"
   ]
  },
  {
   "cell_type": "code",
   "execution_count": 0,
   "metadata": {
    "application/vnd.databricks.v1+cell": {
     "cellMetadata": {
      "byteLimit": 2048000,
      "rowLimit": 10000
     },
     "inputWidgets": {},
     "nuid": "011ffa0e-fe13-471a-8592-337a19dadd64",
     "showTitle": false,
     "title": ""
    }
   },
   "outputs": [
    {
     "output_type": "stream",
     "name": "stdout",
     "output_type": "stream",
     "text": [
      ">>> Tabela analisada: accounts\nA coluna 'account_id' é válida. (Não tem valores nulos)\nA coluna 'customer_id' é válida. (Não tem valores nulos)\nA coluna 'account_branch' é válida. (Não tem valores nulos)\nA coluna 'account_check_digit' é válida. (Não tem valores nulos)\nA coluna 'account_number' é válida. (Não tem valores nulos)\n>>> Tabela analisada: city\nA coluna 'city' é válida. (Não tem valores nulos)\n>>> Tabela analisada: country\nA coluna 'country' é válida. (Não tem valores nulos)\n>>> Tabela analisada: customers\nA coluna 'first_name' é válida. (Não tem valores nulos)\nA coluna 'last_name' é válida. (Não tem valores nulos)\nA coluna 'country_name' é válida. (Não tem valores nulos)\nA coluna 'customer_city' é válida. (Não tem valores nulos)\nA coluna 'cpf' é válida. (Não tem valores nulos)\n>>> Tabela analisada: pix_movements\nA coluna 'account_id' é válida. (Não tem valores nulos)\nA coluna 'id' é válida. (Não tem valores nulos)\nA coluna 'pix_amount' é válida. (Não tem valores nulos)\nA coluna 'pix_requested_at' é válida. (Não tem valores nulos)\nA coluna 'pix_completed_at' é válida. (Não tem valores nulos)\n"
     ]
    }
   ],
   "source": [
    "for table, cols_no_empty in tables_non_empty.items():\n",
    "    print(f'>>> Tabela analisada: {table}')\n",
    "    # Carregando dataframe\n",
    "    table_path = bronze_path + table\n",
    "    df_table = spark.read.parquet(table_path) \n",
    "\n",
    "    # Converter o DataFrame Spark em um DataFrame Great Expectations\n",
    "    ge_df_table = SparkDFDataset(df_table)\n",
    "\n",
    "    verificar_colunas_com_none(ge_df_table, cols_no_empty)"
   ]
  },
  {
   "cell_type": "markdown",
   "metadata": {
    "application/vnd.databricks.v1+cell": {
     "cellMetadata": {
      "byteLimit": 2048000,
      "rowLimit": 10000
     },
     "inputWidgets": {},
     "nuid": "ff0caf2c-75f9-4abf-a095-f5512135cb3e",
     "showTitle": false,
     "title": ""
    }
   },
   "source": [
    "###### Verificação de valores MIN e MAX"
   ]
  },
  {
   "cell_type": "code",
   "execution_count": 0,
   "metadata": {
    "application/vnd.databricks.v1+cell": {
     "cellMetadata": {
      "byteLimit": 2048000,
      "rowLimit": 10000
     },
     "inputWidgets": {},
     "nuid": "141fbf37-85ca-4f44-b7d7-b6d4d2dc5c25",
     "showTitle": false,
     "title": ""
    }
   },
   "outputs": [],
   "source": [
    "tables_min_max  = {\n",
    "    'customers': [['cpf'],  0, 99999999999]\n",
    "    , 'pix_movements': [['pix_amount'],  0, 10000]\n",
    "}"
   ]
  },
  {
   "cell_type": "code",
   "execution_count": 0,
   "metadata": {
    "application/vnd.databricks.v1+cell": {
     "cellMetadata": {
      "byteLimit": 2048000,
      "rowLimit": 10000
     },
     "inputWidgets": {},
     "nuid": "2e321e44-aca1-43c9-8140-728c249ed5b9",
     "showTitle": false,
     "title": ""
    }
   },
   "outputs": [
    {
     "output_type": "stream",
     "name": "stdout",
     "output_type": "stream",
     "text": [
      ">>> Tabela analisada: customers\nA coluna 'cpf' está entre os valores de 0 e 99999999999.\n>>> Tabela analisada: pix_movements\nA coluna 'pix_amount' está entre os valores de 0 e 10000.\n"
     ]
    }
   ],
   "source": [
    "for table, values in tables_min_max.items():\n",
    "    print(f'>>> Tabela analisada: {table}')\n",
    "    # Carregando dataframe\n",
    "    table_path = bronze_path + table\n",
    "    df_table = spark.read.parquet(table_path) \n",
    "\n",
    "    # Converter o DataFrame Spark em um DataFrame Great Expectations\n",
    "    ge_df_table = SparkDFDataset(df_table)\n",
    "\n",
    "    list_of_columns, minimo, maximo = values[0], values[1], values[2]\n",
    "    verificar_valores_min_max(ge_df_table, list_of_columns, minimo, maximo)\n"
   ]
  },
  {
   "cell_type": "markdown",
   "metadata": {
    "application/vnd.databricks.v1+cell": {
     "cellMetadata": {
      "byteLimit": 2048000,
      "rowLimit": 10000
     },
     "inputWidgets": {},
     "nuid": "975e9341-1aba-4107-afa3-eccf86e5aa48",
     "showTitle": false,
     "title": ""
    }
   },
   "source": [
    "#### Creating Silver layer"
   ]
  },
  {
   "cell_type": "code",
   "execution_count": 0,
   "metadata": {
    "application/vnd.databricks.v1+cell": {
     "cellMetadata": {
      "byteLimit": 2048000,
      "implicitDf": true,
      "rowLimit": 10000
     },
     "inputWidgets": {},
     "nuid": "00dfd93c-19f8-4f47-ae29-4d959899eb46",
     "showTitle": false,
     "title": ""
    }
   },
   "outputs": [
    {
     "output_type": "display_data",
     "data": {
      "text/html": [
       "<style scoped>\n",
       "  .table-result-container {\n",
       "    max-height: 300px;\n",
       "    overflow: auto;\n",
       "  }\n",
       "  table, th, td {\n",
       "    border: 1px solid black;\n",
       "    border-collapse: collapse;\n",
       "  }\n",
       "  th, td {\n",
       "    padding: 5px;\n",
       "  }\n",
       "  th {\n",
       "    text-align: left;\n",
       "  }\n",
       "</style><div class='table-result-container'><table class='table-result'><thead style='background-color: white'><tr></tr></thead><tbody></tbody></table></div>"
      ]
     },
     "metadata": {
      "application/vnd.databricks.v1+output": {
       "addedWidgets": {},
       "aggData": [],
       "aggError": "",
       "aggOverflow": false,
       "aggSchema": [],
       "aggSeriesLimitReached": false,
       "aggType": "",
       "arguments": {},
       "columnCustomDisplayInfos": {},
       "data": [],
       "datasetInfos": [],
       "dbfsResultPath": null,
       "isJsonSchema": true,
       "metadata": {},
       "overflow": false,
       "plotOptions": {
        "customPlotOptions": {},
        "displayType": "table",
        "pivotAggregation": null,
        "pivotColumns": null,
        "xColumns": null,
        "yColumns": null
       },
       "removedWidgets": [],
       "schema": [],
       "type": "table"
      }
     },
     "output_type": "display_data"
    }
   ],
   "source": [
    "%sql\n",
    "CREATE SCHEMA IF NOT EXISTS silver LOCATION '/FileStore/project_report_balance/silver'"
   ]
  },
  {
   "cell_type": "markdown",
   "metadata": {
    "application/vnd.databricks.v1+cell": {
     "cellMetadata": {
      "byteLimit": 2048000,
      "rowLimit": 10000
     },
     "inputWidgets": {},
     "nuid": "e7e46800-1a7c-437f-b581-cf916fad7829",
     "showTitle": false,
     "title": ""
    }
   },
   "source": [
    "#### Creating Silver tables with StructType object from JSON file"
   ]
  },
  {
   "cell_type": "code",
   "execution_count": 0,
   "metadata": {
    "application/vnd.databricks.v1+cell": {
     "cellMetadata": {
      "byteLimit": 2048000,
      "rowLimit": 10000
     },
     "inputWidgets": {},
     "nuid": "e1a017d7-ee9b-4d7a-a7ca-b806af42990d",
     "showTitle": false,
     "title": ""
    }
   },
   "outputs": [],
   "source": [
    "lista_df_silver = {}"
   ]
  },
  {
   "cell_type": "code",
   "execution_count": 0,
   "metadata": {
    "application/vnd.databricks.v1+cell": {
     "cellMetadata": {
      "byteLimit": 2048000,
      "rowLimit": 10000
     },
     "inputWidgets": {},
     "nuid": "ba127b19-285c-4bb0-abbc-8592365d956b",
     "showTitle": false,
     "title": ""
    }
   },
   "outputs": [
    {
     "output_type": "stream",
     "name": "stdout",
     "output_type": "stream",
     "text": [
      "Criando dataframe: accounts\nCriando dataframe: city\nCriando dataframe: country\nCriando dataframe: customers\nCriando dataframe: d_month\nCriando dataframe: d_time\nCriando dataframe: d_week\nCriando dataframe: d_weekday\nCriando dataframe: d_year\nCriando dataframe: pix_movements\nCriando dataframe: state\nCriando dataframe: transfer_ins\nCriando dataframe: transfer_outs\n"
     ]
    }
   ],
   "source": [
    "for dir_name, json_str in zip(dir_path_list, json_str_list):\n",
    "    print('Criando dataframe: ' + dir_name)\n",
    "\n",
    "    path_dir_bronze = bronze_path + dir_name\n",
    "\n",
    "    # Loading json schema to create tables\n",
    "    schema_json = StructType.fromJson(json.loads(json_str))\n",
    "\n",
    "    df_parquet = (spark.read.parquet(path_dir_bronze, sep = ',', header = True, schema = schema_json))\n",
    "    lista_df_silver[dir_name] = df_parquet\n",
    "\n",
    "    df_parquet.createOrReplaceTempView(dir_name)\n"
   ]
  },
  {
   "cell_type": "markdown",
   "metadata": {
    "application/vnd.databricks.v1+cell": {
     "cellMetadata": {
      "byteLimit": 2048000,
      "rowLimit": 10000
     },
     "inputWidgets": {},
     "nuid": "7dbb9216-87b9-4864-aa0a-0f12a2c6927f",
     "showTitle": false,
     "title": ""
    }
   },
   "source": [
    "#### Creating Table silver.d_accounts"
   ]
  },
  {
   "cell_type": "code",
   "execution_count": 0,
   "metadata": {
    "application/vnd.databricks.v1+cell": {
     "cellMetadata": {
      "byteLimit": 2048000,
      "rowLimit": 10000
     },
     "inputWidgets": {},
     "nuid": "d625b07d-fdc6-4f9d-86aa-a91e169bd33b",
     "showTitle": false,
     "title": ""
    }
   },
   "outputs": [],
   "source": [
    "df_accounts = spark.read.table('accounts')\n",
    "df_accounts = df_accounts.withColumn('account', concat(col('account_branch'),col('account_check_digit'), col('account_number')))\n",
    "df_accounts = df_accounts.select(['account_id', 'status','account','created_at'])\n",
    "\n",
    "\n",
    "schema_json = StructType.fromJson(json.loads(json_str_list_silver[0]))\n",
    "\n",
    "path_dir_silver_d_account = silver_path + 'd_account'\n",
    "\n",
    "(df_accounts\n",
    "    .write\n",
    "    .saveAsTable('silver.d_accounts', compression = \"snappy\", mode = \"overwrite\", path = path_dir_silver_d_account, schema = schema_json)\n",
    ")"
   ]
  },
  {
   "cell_type": "markdown",
   "metadata": {
    "application/vnd.databricks.v1+cell": {
     "cellMetadata": {
      "byteLimit": 2048000,
      "rowLimit": 10000
     },
     "inputWidgets": {},
     "nuid": "ea93df87-d93c-4bc4-8dae-f3e7231021ae",
     "showTitle": false,
     "title": ""
    }
   },
   "source": [
    "#### Creating Table silver.f_movements\n"
   ]
  },
  {
   "cell_type": "code",
   "execution_count": 0,
   "metadata": {
    "application/vnd.databricks.v1+cell": {
     "cellMetadata": {
      "byteLimit": 2048000,
      "rowLimit": 10000
     },
     "inputWidgets": {},
     "nuid": "6f83f9f0-c73a-4d8c-a832-8c0dbc6ef8c4",
     "showTitle": false,
     "title": ""
    }
   },
   "outputs": [],
   "source": [
    "df_d_time = spark.read.table('d_time').select(['time_id', 'action_timestamp'])\n",
    "df_d_time = df_d_time.withColumn('ultimo_dia_mes', last_day('action_timestamp'))\n",
    "df_d_time = df_d_time.select(['time_id', 'ultimo_dia_mes'])    \n",
    "\n",
    "# pix\n",
    "df_pix = spark.read.table('pix_movements').select(['account_id','pix_amount','in_or_out','status','pix_requested_at', 'pix_completed_at'])\n",
    "df_pix = df_pix.join(df_d_time.alias('d_time').withColumnRenamed('ultimo_dia_mes','requested_at')\n",
    "            , col('d_time.time_id') == col('pix_movements.pix_requested_at')\n",
    "            , 'inner'\n",
    "    ).join(df_d_time.alias('d_time_completed').withColumnRenamed('ultimo_dia_mes','completed_at')\n",
    "            , col('d_time_completed.time_id') == col('pix_movements.pix_completed_at')\n",
    "            , 'left'\n",
    "    )\n",
    "df_pix = df_pix.withColumnRenamed('pix_amount','amount')\n",
    "df_pix = df_pix.select(['account_id','amount', 'in_or_out', 'status','requested_at','completed_at'])\n",
    "\n",
    "#transfer in\n",
    "df_transfer_ins = spark.read.table('transfer_ins').select(['account_id','amount','status','transaction_requested_at', 'transaction_completed_at'])\n",
    "df_transfer_ins = df_transfer_ins.withColumn('in_or_out', lit('transfer_in'))\n",
    "df_transfer_ins = df_transfer_ins.join(df_d_time.alias('d_time').withColumnRenamed('ultimo_dia_mes','requested_at')\n",
    "            , col('d_time.time_id') == col('transfer_ins.transaction_requested_at')\n",
    "            , 'inner'\n",
    "    ).join(df_d_time.alias('d_time_completed').withColumnRenamed('ultimo_dia_mes','completed_at')\n",
    "            , col('d_time_completed.time_id') == col('transfer_ins.transaction_completed_at')\n",
    "            , 'left'\n",
    "    )\n",
    "df_transfer_ins = df_transfer_ins.select(['account_id','amount', 'in_or_out', 'status','requested_at','completed_at'])\n",
    "\n",
    "# transfer outs\n",
    "df_transfer_outs = spark.read.table('transfer_outs').select(['account_id','amount','status','transaction_requested_at', 'transaction_completed_at'])\n",
    "df_transfer_outs = df_transfer_outs.withColumn('in_or_out', lit('transfer_out'))\n",
    "df_transfer_outs = df_transfer_outs.join(df_d_time.alias('d_time').withColumnRenamed('ultimo_dia_mes','requested_at')\n",
    "            , col('d_time.time_id') == col('transfer_outs.transaction_requested_at')\n",
    "            , 'inner'\n",
    "    ).join(df_d_time.alias('d_time_completed').withColumnRenamed('ultimo_dia_mes','completed_at')\n",
    "            , col('d_time_completed.time_id') == col('transfer_outs.transaction_completed_at')\n",
    "            , 'left'\n",
    "    )\n",
    "\n",
    "df_transfer_outs = df_transfer_outs.select(['account_id','amount', 'in_or_out', 'status','requested_at','completed_at'])\n",
    "\n",
    "df_f_movements = df_pix.unionAll(df_transfer_ins).unionAll(df_transfer_outs)\n",
    "\n",
    "schema_json_f_movements = StructType.fromJson(json.loads(json_str_list_silver[1]))\n",
    "path_dir_silver_f_movements= silver_path + 'f_movements'\n",
    "\n",
    "(df_f_movements\n",
    "    .write\n",
    "    .saveAsTable('silver.f_movements', compression = \"snappy\", mode = \"overwrite\", path = path_dir_silver_f_movements, schema = schema_json_f_movements)\n",
    ")"
   ]
  },
  {
   "cell_type": "markdown",
   "metadata": {
    "application/vnd.databricks.v1+cell": {
     "cellMetadata": {
      "byteLimit": 2048000,
      "rowLimit": 10000
     },
     "inputWidgets": {},
     "nuid": "0b36082d-e6cb-4028-9f84-a0040941fa03",
     "showTitle": false,
     "title": ""
    }
   },
   "source": [
    "#### Creating Table silver.d_calendar"
   ]
  },
  {
   "cell_type": "code",
   "execution_count": 0,
   "metadata": {
    "application/vnd.databricks.v1+cell": {
     "cellMetadata": {
      "byteLimit": 2048000,
      "rowLimit": 10000
     },
     "inputWidgets": {},
     "nuid": "501b81ec-c81a-4ddb-8558-548705cf2685",
     "showTitle": false,
     "title": ""
    }
   },
   "outputs": [],
   "source": [
    "d_year_df = spark.read.table(\"d_year\").drop(col(\"year_id\")).dropDuplicates(['action_year'])\n",
    "d_month_df = spark.read.table(\"d_month\").drop(col(\"month_id\")).dropDuplicates(['action_month'])\n",
    "d_calendar_df = d_year_df.join(d_month_df)\n",
    "d_calendar_df = d_calendar_df.withColumnRenamed(\"action_year\",\"year\").withColumnRenamed(\"action_month\",\"month\")\n",
    "\n",
    "d_calendar_df = d_calendar_df.withColumn(\"ultimo_dia_mes\", last_day(to_date(concat(d_calendar_df[\"year\"], lit(\"-\"), lpad(d_calendar_df[\"month\"],2,\"0\"), lit(\"-\"), lit(\"01\")), \"yyyy-MM-dd\"))) \n",
    "\n",
    "d_calendar_df = d_calendar_df.alias(\"d_calendar\")\n",
    "schema_df_d_calendar = StructType([\n",
    "    StructField(\"year\", IntegerType(), False)\n",
    "    , StructField(\"month\", IntegerType(), False)\n",
    "    , StructField(\"ultimo_dia_mes\", DataType(), False)\n",
    "])\n",
    "\n",
    "d_calendar_path = silver_path + 'd_calendar'\n",
    "\n",
    "(d_calendar_df\n",
    "    .write\n",
    "    .saveAsTable('silver.d_calendar', compression=\"snappy\", mode=\"overwrite\", path=d_calendar_path, schema=schema_df_d_calendar)\n",
    ")"
   ]
  },
  {
   "cell_type": "code",
   "execution_count": 0,
   "metadata": {
    "application/vnd.databricks.v1+cell": {
     "cellMetadata": {
      "byteLimit": 2048000,
      "implicitDf": true,
      "rowLimit": 10000
     },
     "inputWidgets": {},
     "nuid": "097ecf16-37ce-4545-9c0f-b33da343e50f",
     "showTitle": false,
     "title": ""
    }
   },
   "outputs": [
    {
     "output_type": "display_data",
     "data": {
      "text/html": [
       "<style scoped>\n",
       "  .table-result-container {\n",
       "    max-height: 300px;\n",
       "    overflow: auto;\n",
       "  }\n",
       "  table, th, td {\n",
       "    border: 1px solid black;\n",
       "    border-collapse: collapse;\n",
       "  }\n",
       "  th, td {\n",
       "    padding: 5px;\n",
       "  }\n",
       "  th {\n",
       "    text-align: left;\n",
       "  }\n",
       "</style><div class='table-result-container'><table class='table-result'><thead style='background-color: white'><tr><th>year</th><th>month</th><th>ultimo_dia_mes</th></tr></thead><tbody><tr><td>2020</td><td>12</td><td>2020-12-31</td></tr><tr><td>2020</td><td>1</td><td>2020-01-31</td></tr><tr><td>2020</td><td>6</td><td>2020-06-30</td></tr><tr><td>2020</td><td>3</td><td>2020-03-31</td></tr><tr><td>2020</td><td>5</td><td>2020-05-31</td></tr></tbody></table></div>"
      ]
     },
     "metadata": {
      "application/vnd.databricks.v1+output": {
       "addedWidgets": {},
       "aggData": [],
       "aggError": "",
       "aggOverflow": false,
       "aggSchema": [],
       "aggSeriesLimitReached": false,
       "aggType": "",
       "arguments": {},
       "columnCustomDisplayInfos": {},
       "data": [
        [
         2020,
         12,
         "2020-12-31"
        ],
        [
         2020,
         1,
         "2020-01-31"
        ],
        [
         2020,
         6,
         "2020-06-30"
        ],
        [
         2020,
         3,
         "2020-03-31"
        ],
        [
         2020,
         5,
         "2020-05-31"
        ]
       ],
       "datasetInfos": [],
       "dbfsResultPath": null,
       "isJsonSchema": true,
       "metadata": {},
       "overflow": false,
       "plotOptions": {
        "customPlotOptions": {},
        "displayType": "table",
        "pivotAggregation": null,
        "pivotColumns": null,
        "xColumns": null,
        "yColumns": null
       },
       "removedWidgets": [],
       "schema": [
        {
         "metadata": "{}",
         "name": "year",
         "type": "\"integer\""
        },
        {
         "metadata": "{}",
         "name": "month",
         "type": "\"integer\""
        },
        {
         "metadata": "{}",
         "name": "ultimo_dia_mes",
         "type": "\"date\""
        }
       ],
       "type": "table"
      }
     },
     "output_type": "display_data"
    }
   ],
   "source": [
    "%sql\n",
    "SELECT * FROM silver.d_calendar LIMIT 5"
   ]
  },
  {
   "cell_type": "markdown",
   "metadata": {
    "application/vnd.databricks.v1+cell": {
     "cellMetadata": {
      "byteLimit": 2048000,
      "rowLimit": 10000
     },
     "inputWidgets": {},
     "nuid": "39f5fdda-9acc-4940-bf96-120d10bf6a1a",
     "showTitle": false,
     "title": ""
    }
   },
   "source": [
    "## Gold layer"
   ]
  },
  {
   "cell_type": "markdown",
   "metadata": {
    "application/vnd.databricks.v1+cell": {
     "cellMetadata": {
      "byteLimit": 2048000,
      "rowLimit": 10000
     },
     "inputWidgets": {},
     "nuid": "be9e6e9f-87d7-4d94-bb55-854ce66d78b5",
     "showTitle": false,
     "title": ""
    }
   },
   "source": [
    "### Tabela/View 1: Lancamentos por mes "
   ]
  },
  {
   "cell_type": "code",
   "execution_count": 0,
   "metadata": {
    "application/vnd.databricks.v1+cell": {
     "cellMetadata": {
      "byteLimit": 2048000,
      "rowLimit": 10000
     },
     "inputWidgets": {},
     "nuid": "7fa4e326-5f76-4594-b39f-bc817d497230",
     "showTitle": false,
     "title": ""
    }
   },
   "outputs": [],
   "source": [
    "# Tabela/View 1 - Lancamentos por mes\n",
    "# Consulta ira criar uma tabela/view que vai apresentar as soma das entradas e saidas por mês e conta.\n",
    "sql_lancamentos_por_mes = \" \\\n",
    "   SELECT \\\n",
    "      account_id \\\n",
    "      , ultimo_dia_mes \\\n",
    "      , SUM(valor_saida) AS VALOR_SAIDA \\\n",
    "      , SUM(valor_entrada) AS VALOR_ENTRADA \\\n",
    "   FROM ( \\\n",
    "      SELECT account_id \\\n",
    "         , requested_at ultimo_dia_mes \\\n",
    "         , SUM(amount) valor_saida \\\n",
    "         , 0 valor_entrada \\\n",
    "      FROM silver.f_movements \\\n",
    "      WHERE status = 'completed' \\\n",
    "         and in_or_out in ('pix_out', 'transfer_out') \\\n",
    "      GROUP BY account_id \\\n",
    "         , requested_at \\\n",
    "      UNION ALL \\\n",
    "      SELECT account_id \\\n",
    "         , completed_at ultimo_dia_mes \\\n",
    "         , 0 valor_saida \\\n",
    "         , SUM(amount) valor_entrada \\\n",
    "      FROM silver.f_movements \\\n",
    "      WHERE status = 'completed' \\\n",
    "         and in_or_out in ('pix_in', 'transfer_in') \\\n",
    "         and completed_at is not NULL \\\n",
    "      GROUP BY account_id \\\n",
    "         , completed_at \\\n",
    "   ) lancamentos_por_mes \\\n",
    "   GROUP BY account_id, ultimo_dia_mes \\\n",
    "\"\n",
    " \n",
    "df_lancamentos_por_mes = spark.sql(sql_lancamentos_por_mes)\n",
    "df_lancamentos_por_mes.createOrReplaceTempView(\"lancamentos_por_mes\")\n"
   ]
  },
  {
   "cell_type": "markdown",
   "metadata": {
    "application/vnd.databricks.v1+cell": {
     "cellMetadata": {
      "byteLimit": 2048000,
      "rowLimit": 10000
     },
     "inputWidgets": {},
     "nuid": "868e83d7-0a12-4c3e-8b83-49f782e20391",
     "showTitle": false,
     "title": ""
    }
   },
   "source": [
    "### Tabela/View 2: Total Por Mes"
   ]
  },
  {
   "cell_type": "code",
   "execution_count": 0,
   "metadata": {
    "application/vnd.databricks.v1+cell": {
     "cellMetadata": {
      "byteLimit": 2048000,
      "rowLimit": 10000
     },
     "inputWidgets": {},
     "nuid": "c696f5da-2a79-440d-bec9-20e6c7062499",
     "showTitle": false,
     "title": ""
    }
   },
   "outputs": [],
   "source": [
    "   # Tabela/View 2 - Total Por Mes\n",
    "   # Essa consulta sql vai gerar uma tabela/view que vai listar a soma de todas as entrada e saida até o mes de analise.\n",
    "   sql_total_por_mes = \"\\\n",
    "      SELECT \\\n",
    "         d_calendar.ultimo_dia_mes As ultimo_dia_mes \\\n",
    "         , lancamentos_por_mes.account_id \\\n",
    "         , SUM(lancamentos_por_mes.VALOR_ENTRADA) TOTAL_ENTRADA \\\n",
    "         , SUM(lancamentos_por_mes.VALOR_SAIDA) TOTAL_SAIDA  \\\n",
    "          \\\n",
    "      FROM silver.d_calendar \\\n",
    "         LEFT JOIN lancamentos_por_mes  \\\n",
    "            ON lancamentos_por_mes.ultimo_dia_mes <= d_calendar.ultimo_dia_mes \\\n",
    " \\\n",
    "      GROUP BY d_calendar.ultimo_dia_mes \\\n",
    "         , lancamentos_por_mes.account_id \\\n",
    "   \"\n",
    "\n",
    "df_total_por_mes =  spark.sql(sql_total_por_mes)    \n",
    "df_total_por_mes.createOrReplaceTempView('total_por_mes') "
   ]
  },
  {
   "cell_type": "markdown",
   "metadata": {
    "application/vnd.databricks.v1+cell": {
     "cellMetadata": {
      "byteLimit": 2048000,
      "rowLimit": 10000
     },
     "inputWidgets": {},
     "nuid": "c66cb492-5073-4810-bf6d-4da7dfcfd8de",
     "showTitle": false,
     "title": ""
    }
   },
   "source": [
    "### Tabela/View 3: Acumulado por mes"
   ]
  },
  {
   "cell_type": "code",
   "execution_count": 0,
   "metadata": {
    "application/vnd.databricks.v1+cell": {
     "cellMetadata": {
      "byteLimit": 2048000,
      "rowLimit": 10000
     },
     "inputWidgets": {},
     "nuid": "9b1dd8ab-a80b-43a8-af1c-268042fbca2a",
     "showTitle": false,
     "title": ""
    }
   },
   "outputs": [],
   "source": [
    "# Tabela/View 3 - Acumulado por mes\n",
    "# Essa tabela apresenta o join das duas tabelas anteriores, e um calculo de saldo final por mes e conta.\n",
    "sql_acumulado_por_mes = \"\\\n",
    "    SELECT \\\n",
    "        d_accounts.account_id \\\n",
    "        , d_calendar.ultimo_dia_mes As ultimo_dia_mes \\\n",
    "        , d_calendar.month mes \\\n",
    "        , d_calendar.year ano \\\n",
    "        , lancamentos_por_mes.VALOR_ENTRADA TOTAL_ENTRADA \\\n",
    "        , lancamentos_por_mes.VALOR_SAIDA TOTAL_SAIDA \\\n",
    "        , COALESCE(total_por_mes.TOTAL_ENTRADA,0) - COALESCE(total_por_mes.TOTAL_SAIDA,0) AS SALDO_FINAL \\\n",
    "    FROM silver.d_accounts \\\n",
    "    INNER JOIN silver.d_calendar \\\n",
    "        ON d_calendar.ultimo_dia_mes >= TO_DATE(d_accounts.created_at, 'yyyy-MM-dd') \\\n",
    "    LEFT JOIN lancamentos_por_mes \\\n",
    "        ON lancamentos_por_mes.account_id = d_accounts.account_id \\\n",
    "        AND lancamentos_por_mes.ultimo_dia_mes = d_calendar.ultimo_dia_mes \\\n",
    "    LEFT JOIN total_por_mes \\\n",
    "        ON total_por_mes.account_id = d_accounts.account_id \\\n",
    "        AND total_por_mes.ultimo_dia_mes = d_calendar.ultimo_dia_mes \\\n",
    "\"\n",
    "df_acumulado_por_mes = spark.sql(sql_acumulado_por_mes)\n",
    "df_acumulado_por_mes.createOrReplaceTempView(\"acumulado_por_mes\")"
   ]
  },
  {
   "cell_type": "markdown",
   "metadata": {
    "application/vnd.databricks.v1+cell": {
     "cellMetadata": {
      "byteLimit": 2048000,
      "rowLimit": 10000
     },
     "inputWidgets": {},
     "nuid": "d163093a-8344-42e1-8ba5-abf164b63dcc",
     "showTitle": false,
     "title": ""
    }
   },
   "source": [
    "### Tabela/View Final: Saldo por mensal"
   ]
  },
  {
   "cell_type": "code",
   "execution_count": 0,
   "metadata": {
    "application/vnd.databricks.v1+cell": {
     "cellMetadata": {
      "byteLimit": 2048000,
      "rowLimit": 10000
     },
     "inputWidgets": {},
     "nuid": "f73704ad-3270-4d37-96b2-8bb28343fef8",
     "showTitle": false,
     "title": ""
    }
   },
   "outputs": [],
   "source": [
    "# Tabela Final - Saldo Mensal - agg_saldo_mensal\n",
    "# Esse select vai aprensentar o saldo mensal final de cada conta e as entradas e saida de cada mês.\n",
    "sql_saldo_mensal = \"\\\n",
    "   SELECT \\\n",
    "       d_accounts.account_id \\\n",
    "       , d_accounts.account \\\n",
    "       , acumulado_por_mes.ultimo_dia_mes \\\n",
    "       , acumulado_por_mes.mes \\\n",
    "       , acumulado_por_mes.ano \\\n",
    "       , FORMAT_NUMBER(coalesce(acumulado_por_mes.total_entrada,0), 2) total_entrada \\\n",
    "       , FORMAT_NUMBER(coalesce(acumulado_por_mes.total_saida,0), 2) total_saida \\\n",
    "       , FORMAT_NUMBER(coalesce(acumulado_por_mes.saldo_final,0), 2) saldo_final \\\n",
    "   FROM silver.d_accounts \\\n",
    "      LEFT JOIN acumulado_por_mes \\\n",
    "         ON acumulado_por_mes.account_id = d_accounts.account_id \\\n",
    "   \"\n",
    "df_agg_saldo_mensal = spark.sql(sql_saldo_mensal)\n",
    "df_agg_saldo_mensal = df_agg_saldo_mensal.alias('saldo_mensal')\n",
    "\n"
   ]
  },
  {
   "cell_type": "markdown",
   "metadata": {
    "application/vnd.databricks.v1+cell": {
     "cellMetadata": {
      "byteLimit": 2048000,
      "rowLimit": 10000
     },
     "inputWidgets": {},
     "nuid": "bf8643c8-0768-479e-8c29-d34004774af7",
     "showTitle": false,
     "title": ""
    }
   },
   "source": [
    "#### Salvando o dataframe em tabela"
   ]
  },
  {
   "cell_type": "code",
   "execution_count": 0,
   "metadata": {
    "application/vnd.databricks.v1+cell": {
     "cellMetadata": {
      "byteLimit": 2048000,
      "implicitDf": true,
      "rowLimit": 10000
     },
     "inputWidgets": {},
     "nuid": "446a6617-f77d-47d5-97fd-a92113d11a56",
     "showTitle": false,
     "title": ""
    }
   },
   "outputs": [
    {
     "output_type": "display_data",
     "data": {
      "text/html": [
       "<style scoped>\n",
       "  .table-result-container {\n",
       "    max-height: 300px;\n",
       "    overflow: auto;\n",
       "  }\n",
       "  table, th, td {\n",
       "    border: 1px solid black;\n",
       "    border-collapse: collapse;\n",
       "  }\n",
       "  th, td {\n",
       "    padding: 5px;\n",
       "  }\n",
       "  th {\n",
       "    text-align: left;\n",
       "  }\n",
       "</style><div class='table-result-container'><table class='table-result'><thead style='background-color: white'><tr></tr></thead><tbody></tbody></table></div>"
      ]
     },
     "metadata": {
      "application/vnd.databricks.v1+output": {
       "addedWidgets": {},
       "aggData": [],
       "aggError": "",
       "aggOverflow": false,
       "aggSchema": [],
       "aggSeriesLimitReached": false,
       "aggType": "",
       "arguments": {},
       "columnCustomDisplayInfos": {},
       "data": [],
       "datasetInfos": [],
       "dbfsResultPath": null,
       "isJsonSchema": true,
       "metadata": {},
       "overflow": false,
       "plotOptions": {
        "customPlotOptions": {},
        "displayType": "table",
        "pivotAggregation": null,
        "pivotColumns": null,
        "xColumns": null,
        "yColumns": null
       },
       "removedWidgets": [],
       "schema": [],
       "type": "table"
      }
     },
     "output_type": "display_data"
    }
   ],
   "source": [
    "%sql\n",
    "CREATE SCHEMA IF NOT EXISTS gold LOCATION '/FileStore/project_report_balance/gold'"
   ]
  },
  {
   "cell_type": "code",
   "execution_count": 0,
   "metadata": {
    "application/vnd.databricks.v1+cell": {
     "cellMetadata": {
      "byteLimit": 2048000,
      "rowLimit": 10000
     },
     "inputWidgets": {},
     "nuid": "2b9d734a-b579-42fa-a99f-a7803ed36732",
     "showTitle": false,
     "title": ""
    }
   },
   "outputs": [],
   "source": [
    "schema_gold_agg_saldo_mensal = StructType([\n",
    "    StructField(\"account_id\", LongType(), False),\n",
    "    StructField(\"account\", StringType(), False),    \n",
    "    StructField(\"mes\", IntegerType(), False), \n",
    "    StructField(\"ano\", IntegerType(), False), \n",
    "    StructField(\"ultimo_dia_mes\", DataType(), False),\n",
    "    StructField(\"valor_entrada\", DoubleType(), False),\n",
    "    StructField(\"valor_saida\", DoubleType(), False),\n",
    "    StructField(\"saldo_final\", DoubleType(), False)\n",
    "])\n",
    "\n",
    "\n",
    "agg_saldo_mensal_path = gold_path + 'agg_saldo_mensal'\n",
    "(df_agg_saldo_mensal\n",
    "    .write\n",
    "    .saveAsTable('gold.agg_saldo_mensal', compression=\"snappy\", mode=\"overwrite\", path=agg_saldo_mensal_path, schema=schema_gold_agg_saldo_mensal)\n",
    ")"
   ]
  },
  {
   "cell_type": "code",
   "execution_count": 0,
   "metadata": {
    "application/vnd.databricks.v1+cell": {
     "cellMetadata": {
      "byteLimit": 2048000,
      "implicitDf": true,
      "rowLimit": 10000
     },
     "inputWidgets": {},
     "nuid": "c1d494b1-6267-4ebb-a357-f8c886f268b0",
     "showTitle": false,
     "title": ""
    }
   },
   "outputs": [
    {
     "output_type": "display_data",
     "data": {
      "text/html": [
       "<style scoped>\n",
       "  .table-result-container {\n",
       "    max-height: 300px;\n",
       "    overflow: auto;\n",
       "  }\n",
       "  table, th, td {\n",
       "    border: 1px solid black;\n",
       "    border-collapse: collapse;\n",
       "  }\n",
       "  th, td {\n",
       "    padding: 5px;\n",
       "  }\n",
       "  th {\n",
       "    text-align: left;\n",
       "  }\n",
       "</style><div class='table-result-container'><table class='table-result'><thead style='background-color: white'><tr><th>account_id</th><th>account</th><th>ultimo_dia_mes</th><th>mes</th><th>ano</th><th>total_entrada</th><th>total_saida</th><th>saldo_final</th></tr></thead><tbody><tr><td>3138902864818696704</td><td>7288945713</td><td>2020-02-29</td><td>2</td><td>2020</td><td>1,258.88</td><td>0.00</td><td>1,258.88</td></tr><tr><td>3138902864818696704</td><td>7288945713</td><td>2020-11-30</td><td>11</td><td>2020</td><td>0.00</td><td>0.00</td><td>1,606.62</td></tr><tr><td>3138902864818696704</td><td>7288945713</td><td>2020-10-31</td><td>10</td><td>2020</td><td>347.74</td><td>0.00</td><td>1,606.62</td></tr><tr><td>3138902864818696704</td><td>7288945713</td><td>2020-07-31</td><td>7</td><td>2020</td><td>0.00</td><td>0.00</td><td>1,258.88</td></tr><tr><td>3138902864818696704</td><td>7288945713</td><td>2020-08-31</td><td>8</td><td>2020</td><td>0.00</td><td>0.00</td><td>1,258.88</td></tr><tr><td>3138902864818696704</td><td>7288945713</td><td>2020-04-30</td><td>4</td><td>2020</td><td>0.00</td><td>0.00</td><td>1,258.88</td></tr><tr><td>3138902864818696704</td><td>7288945713</td><td>2020-09-30</td><td>9</td><td>2020</td><td>0.00</td><td>0.00</td><td>1,258.88</td></tr><tr><td>3138902864818696704</td><td>7288945713</td><td>2020-05-31</td><td>5</td><td>2020</td><td>0.00</td><td>0.00</td><td>1,258.88</td></tr><tr><td>3138902864818696704</td><td>7288945713</td><td>2020-03-31</td><td>3</td><td>2020</td><td>0.00</td><td>0.00</td><td>1,258.88</td></tr><tr><td>3138902864818696704</td><td>7288945713</td><td>2020-06-30</td><td>6</td><td>2020</td><td>0.00</td><td>0.00</td><td>1,258.88</td></tr><tr><td>3138902864818696704</td><td>7288945713</td><td>2020-01-31</td><td>1</td><td>2020</td><td>0.00</td><td>0.00</td><td>0.00</td></tr><tr><td>3138902864818696704</td><td>7288945713</td><td>2020-12-31</td><td>12</td><td>2020</td><td>0.00</td><td>0.00</td><td>1,606.62</td></tr><tr><td>100642855136823056</td><td>5850552478</td><td>2020-02-29</td><td>2</td><td>2020</td><td>1,328.13</td><td>1,694.06</td><td>-365.93</td></tr><tr><td>100642855136823056</td><td>5850552478</td><td>2020-11-30</td><td>11</td><td>2020</td><td>0.00</td><td>0.00</td><td>4,066.60</td></tr><tr><td>100642855136823056</td><td>5850552478</td><td>2020-10-31</td><td>10</td><td>2020</td><td>0.00</td><td>29.37</td><td>4,066.60</td></tr><tr><td>100642855136823056</td><td>5850552478</td><td>2020-07-31</td><td>7</td><td>2020</td><td>0.00</td><td>0.00</td><td>-798.33</td></tr><tr><td>100642855136823056</td><td>5850552478</td><td>2020-08-31</td><td>8</td><td>2020</td><td>3,247.11</td><td>290.35</td><td>2,158.43</td></tr><tr><td>100642855136823056</td><td>5850552478</td><td>2020-04-30</td><td>4</td><td>2020</td><td>0.00</td><td>0.00</td><td>-365.93</td></tr><tr><td>100642855136823056</td><td>5850552478</td><td>2020-09-30</td><td>9</td><td>2020</td><td>1,937.54</td><td>0.00</td><td>4,095.97</td></tr><tr><td>100642855136823056</td><td>5850552478</td><td>2020-05-31</td><td>5</td><td>2020</td><td>858.33</td><td>1,290.73</td><td>-798.33</td></tr><tr><td>100642855136823056</td><td>5850552478</td><td>2020-03-31</td><td>3</td><td>2020</td><td>0.00</td><td>0.00</td><td>-365.93</td></tr><tr><td>100642855136823056</td><td>5850552478</td><td>2020-06-30</td><td>6</td><td>2020</td><td>0.00</td><td>0.00</td><td>-798.33</td></tr><tr><td>100642855136823056</td><td>5850552478</td><td>2020-01-31</td><td>1</td><td>2020</td><td>0.00</td><td>0.00</td><td>0.00</td></tr><tr><td>100642855136823056</td><td>5850552478</td><td>2020-12-31</td><td>12</td><td>2020</td><td>0.00</td><td>0.00</td><td>4,066.60</td></tr><tr><td>131238438489095520</td><td>7042116325</td><td>2020-02-29</td><td>2</td><td>2020</td><td>232.73</td><td>1,471.58</td><td>549.28</td></tr><tr><td>131238438489095520</td><td>7042116325</td><td>2020-11-30</td><td>11</td><td>2020</td><td>435.06</td><td>2,020.36</td><td>2,121.71</td></tr><tr><td>131238438489095520</td><td>7042116325</td><td>2020-10-31</td><td>10</td><td>2020</td><td>0.00</td><td>0.00</td><td>3,707.01</td></tr><tr><td>131238438489095520</td><td>7042116325</td><td>2020-07-31</td><td>7</td><td>2020</td><td>0.00</td><td>0.00</td><td>5,392.94</td></tr><tr><td>131238438489095520</td><td>7042116325</td><td>2020-08-31</td><td>8</td><td>2020</td><td>126.74</td><td>0.00</td><td>5,519.68</td></tr><tr><td>131238438489095520</td><td>7042116325</td><td>2020-04-30</td><td>4</td><td>2020</td><td>2,682.78</td><td>0.00</td><td>3,816.69</td></tr><tr><td>131238438489095520</td><td>7042116325</td><td>2020-09-30</td><td>9</td><td>2020</td><td>0.00</td><td>1,812.67</td><td>3,707.01</td></tr><tr><td>131238438489095520</td><td>7042116325</td><td>2020-05-31</td><td>5</td><td>2020</td><td>0.00</td><td>1,595.14</td><td>2,221.55</td></tr><tr><td>131238438489095520</td><td>7042116325</td><td>2020-03-31</td><td>3</td><td>2020</td><td>1,960.69</td><td>1,376.06</td><td>1,133.91</td></tr><tr><td>131238438489095520</td><td>7042116325</td><td>2020-06-30</td><td>6</td><td>2020</td><td>3,171.39</td><td>0.00</td><td>5,392.94</td></tr><tr><td>131238438489095520</td><td>7042116325</td><td>2020-01-31</td><td>1</td><td>2020</td><td>1,788.13</td><td>0.00</td><td>1,788.13</td></tr><tr><td>131238438489095520</td><td>7042116325</td><td>2020-12-31</td><td>12</td><td>2020</td><td>2,441.82</td><td>0.00</td><td>4,563.53</td></tr><tr><td>2757978057966371328</td><td>7222821574</td><td>2020-02-29</td><td>2</td><td>2020</td><td>0.00</td><td>0.00</td><td>4,968.80</td></tr><tr><td>2757978057966371328</td><td>7222821574</td><td>2020-11-30</td><td>11</td><td>2020</td><td>5,543.65</td><td>1,093.76</td><td>18,888.61</td></tr><tr><td>2757978057966371328</td><td>7222821574</td><td>2020-10-31</td><td>10</td><td>2020</td><td>1,033.24</td><td>839.62</td><td>14,438.72</td></tr><tr><td>2757978057966371328</td><td>7222821574</td><td>2020-07-31</td><td>7</td><td>2020</td><td>894.01</td><td>2,201.77</td><td>11,226.45</td></tr><tr><td>2757978057966371328</td><td>7222821574</td><td>2020-08-31</td><td>8</td><td>2020</td><td>1,474.20</td><td>0.00</td><td>12,700.65</td></tr><tr><td>2757978057966371328</td><td>7222821574</td><td>2020-04-30</td><td>4</td><td>2020</td><td>1,137.14</td><td>0.00</td><td>8,743.22</td></tr><tr><td>2757978057966371328</td><td>7222821574</td><td>2020-09-30</td><td>9</td><td>2020</td><td>2,960.35</td><td>1,415.90</td><td>14,245.10</td></tr><tr><td>2757978057966371328</td><td>7222821574</td><td>2020-05-31</td><td>5</td><td>2020</td><td>3,408.47</td><td>2,031.94</td><td>10,119.75</td></tr><tr><td>2757978057966371328</td><td>7222821574</td><td>2020-03-31</td><td>3</td><td>2020</td><td>3,543.52</td><td>906.24</td><td>7,606.08</td></tr><tr><td>2757978057966371328</td><td>7222821574</td><td>2020-06-30</td><td>6</td><td>2020</td><td>2,414.46</td><td>0.00</td><td>12,534.21</td></tr><tr><td>2757978057966371328</td><td>7222821574</td><td>2020-01-31</td><td>1</td><td>2020</td><td>5,375.19</td><td>406.39</td><td>4,968.80</td></tr><tr><td>2757978057966371328</td><td>7222821574</td><td>2020-12-31</td><td>12</td><td>2020</td><td>759.64</td><td>675.06</td><td>18,973.19</td></tr><tr><td>2843209407475340288</td><td>8535787957</td><td>2020-02-29</td><td>2</td><td>2020</td><td>6,602.03</td><td>0.00</td><td>6,082.09</td></tr><tr><td>2843209407475340288</td><td>8535787957</td><td>2020-11-30</td><td>11</td><td>2020</td><td>0.00</td><td>750.00</td><td>14,490.59</td></tr><tr><td>2843209407475340288</td><td>8535787957</td><td>2020-10-31</td><td>10</td><td>2020</td><td>6,119.58</td><td>0.00</td><td>15,240.59</td></tr><tr><td>2843209407475340288</td><td>8535787957</td><td>2020-07-31</td><td>7</td><td>2020</td><td>1,912.13</td><td>0.00</td><td>6,336.34</td></tr><tr><td>2843209407475340288</td><td>8535787957</td><td>2020-08-31</td><td>8</td><td>2020</td><td>2,051.28</td><td>1,844.35</td><td>6,543.27</td></tr><tr><td>2843209407475340288</td><td>8535787957</td><td>2020-04-30</td><td>4</td><td>2020</td><td>2,602.12</td><td>2,954.37</td><td>5,733.78</td></tr><tr><td>2843209407475340288</td><td>8535787957</td><td>2020-09-30</td><td>9</td><td>2020</td><td>2,577.74</td><td>0.00</td><td>9,121.01</td></tr><tr><td>2843209407475340288</td><td>8535787957</td><td>2020-05-31</td><td>5</td><td>2020</td><td>2,162.43</td><td>1,748.89</td><td>6,147.32</td></tr><tr><td>2843209407475340288</td><td>8535787957</td><td>2020-03-31</td><td>3</td><td>2020</td><td>1,879.34</td><td>1,875.40</td><td>6,086.03</td></tr><tr><td>2843209407475340288</td><td>8535787957</td><td>2020-06-30</td><td>6</td><td>2020</td><td>1,500.09</td><td>3,223.20</td><td>4,424.21</td></tr><tr><td>2843209407475340288</td><td>8535787957</td><td>2020-01-31</td><td>1</td><td>2020</td><td>0.00</td><td>519.94</td><td>-519.94</td></tr><tr><td>2843209407475340288</td><td>8535787957</td><td>2020-12-31</td><td>12</td><td>2020</td><td>439.50</td><td>0.00</td><td>14,930.09</td></tr><tr><td>1603504635694834432</td><td>8781344840</td><td>2020-02-29</td><td>2</td><td>2020</td><td>1,309.70</td><td>0.00</td><td>4,338.46</td></tr><tr><td>1603504635694834432</td><td>8781344840</td><td>2020-11-30</td><td>11</td><td>2020</td><td>4,902.85</td><td>423.13</td><td>18,367.69</td></tr><tr><td>1603504635694834432</td><td>8781344840</td><td>2020-10-31</td><td>10</td><td>2020</td><td>10,840.19</td><td>4,478.79</td><td>13,887.97</td></tr><tr><td>1603504635694834432</td><td>8781344840</td><td>2020-07-31</td><td>7</td><td>2020</td><td>2,963.68</td><td>0.00</td><td>5,418.25</td></tr><tr><td>1603504635694834432</td><td>8781344840</td><td>2020-08-31</td><td>8</td><td>2020</td><td>4,006.53</td><td>2,879.62</td><td>6,545.16</td></tr><tr><td>1603504635694834432</td><td>8781344840</td><td>2020-04-30</td><td>4</td><td>2020</td><td>2,410.18</td><td>1,249.19</td><td>6,292.92</td></tr><tr><td>1603504635694834432</td><td>8781344840</td><td>2020-09-30</td><td>9</td><td>2020</td><td>3,717.56</td><td>2,736.15</td><td>7,526.57</td></tr><tr><td>1603504635694834432</td><td>8781344840</td><td>2020-05-31</td><td>5</td><td>2020</td><td>0.00</td><td>964.00</td><td>5,328.92</td></tr><tr><td>1603504635694834432</td><td>8781344840</td><td>2020-03-31</td><td>3</td><td>2020</td><td>3,284.10</td><td>2,490.63</td><td>5,131.93</td></tr><tr><td>1603504635694834432</td><td>8781344840</td><td>2020-06-30</td><td>6</td><td>2020</td><td>694.25</td><td>3,568.60</td><td>2,454.57</td></tr><tr><td>1603504635694834432</td><td>8781344840</td><td>2020-01-31</td><td>1</td><td>2020</td><td>3,028.76</td><td>0.00</td><td>3,028.76</td></tr><tr><td>1603504635694834432</td><td>8781344840</td><td>2020-12-31</td><td>12</td><td>2020</td><td>6,570.69</td><td>1,521.59</td><td>23,416.79</td></tr><tr><td>2333772134024125952</td><td>6682069965</td><td>2020-02-29</td><td>2</td><td>2020</td><td>2,465.61</td><td>877.88</td><td>4,891.93</td></tr><tr><td>2333772134024125952</td><td>6682069965</td><td>2020-11-30</td><td>11</td><td>2020</td><td>9,288.58</td><td>0.00</td><td>39,809.99</td></tr><tr><td>2333772134024125952</td><td>6682069965</td><td>2020-10-31</td><td>10</td><td>2020</td><td>3,779.73</td><td>287.72</td><td>30,521.41</td></tr><tr><td>2333772134024125952</td><td>6682069965</td><td>2020-07-31</td><td>7</td><td>2020</td><td>5,822.73</td><td>0.00</td><td>24,600.97</td></tr><tr><td>2333772134024125952</td><td>6682069965</td><td>2020-08-31</td><td>8</td><td>2020</td><td>2,150.26</td><td>3,059.16</td><td>23,692.07</td></tr><tr><td>2333772134024125952</td><td>6682069965</td><td>2020-04-30</td><td>4</td><td>2020</td><td>3,886.70</td><td>0.00</td><td>12,557.56</td></tr><tr><td>2333772134024125952</td><td>6682069965</td><td>2020-09-30</td><td>9</td><td>2020</td><td>6,188.32</td><td>2,850.99</td><td>27,029.40</td></tr><tr><td>2333772134024125952</td><td>6682069965</td><td>2020-05-31</td><td>5</td><td>2020</td><td>5,214.38</td><td>581.59</td><td>17,190.35</td></tr><tr><td>2333772134024125952</td><td>6682069965</td><td>2020-03-31</td><td>3</td><td>2020</td><td>6,965.50</td><td>3,186.57</td><td>8,670.86</td></tr><tr><td>2333772134024125952</td><td>6682069965</td><td>2020-06-30</td><td>6</td><td>2020</td><td>1,587.89</td><td>0.00</td><td>18,778.24</td></tr><tr><td>2333772134024125952</td><td>6682069965</td><td>2020-01-31</td><td>1</td><td>2020</td><td>3,304.20</td><td>0.00</td><td>3,304.20</td></tr><tr><td>2333772134024125952</td><td>6682069965</td><td>2020-12-31</td><td>12</td><td>2020</td><td>4,082.69</td><td>1,066.00</td><td>42,826.68</td></tr><tr><td>1258893518900815360</td><td>7386912678</td><td>2020-02-29</td><td>2</td><td>2020</td><td>980.26</td><td>0.00</td><td>1,479.11</td></tr><tr><td>1258893518900815360</td><td>7386912678</td><td>2020-11-30</td><td>11</td><td>2020</td><td>2,021.31</td><td>1,563.24</td><td>37,995.00</td></tr><tr><td>1258893518900815360</td><td>7386912678</td><td>2020-10-31</td><td>10</td><td>2020</td><td>4,127.33</td><td>0.00</td><td>37,536.93</td></tr><tr><td>1258893518900815360</td><td>7386912678</td><td>2020-07-31</td><td>7</td><td>2020</td><td>4,887.68</td><td>1,953.95</td><td>22,321.11</td></tr><tr><td>1258893518900815360</td><td>7386912678</td><td>2020-08-31</td><td>8</td><td>2020</td><td>7,595.62</td><td>2,211.70</td><td>27,705.03</td></tr><tr><td>1258893518900815360</td><td>7386912678</td><td>2020-04-30</td><td>4</td><td>2020</td><td>4,289.01</td><td>1,697.21</td><td>8,646.63</td></tr><tr><td>1258893518900815360</td><td>7386912678</td><td>2020-09-30</td><td>9</td><td>2020</td><td>5,704.57</td><td>0.00</td><td>33,409.60</td></tr><tr><td>1258893518900815360</td><td>7386912678</td><td>2020-05-31</td><td>5</td><td>2020</td><td>6,776.34</td><td>1,191.34</td><td>14,231.63</td></tr><tr><td>1258893518900815360</td><td>7386912678</td><td>2020-03-31</td><td>3</td><td>2020</td><td>7,795.88</td><td>3,220.16</td><td>6,054.83</td></tr><tr><td>1258893518900815360</td><td>7386912678</td><td>2020-06-30</td><td>6</td><td>2020</td><td>8,065.35</td><td>2,909.60</td><td>19,387.38</td></tr><tr><td>1258893518900815360</td><td>7386912678</td><td>2020-01-31</td><td>1</td><td>2020</td><td>2,895.73</td><td>2,396.88</td><td>498.85</td></tr><tr><td>1258893518900815360</td><td>7386912678</td><td>2020-12-31</td><td>12</td><td>2020</td><td>6,018.48</td><td>33.52</td><td>43,979.96</td></tr><tr><td>3131287965427595776</td><td>1702931513</td><td>2020-02-29</td><td>2</td><td>2020</td><td>4,580.89</td><td>1,607.84</td><td>195.76</td></tr><tr><td>3131287965427595776</td><td>1702931513</td><td>2020-11-30</td><td>11</td><td>2020</td><td>10,088.58</td><td>2,457.35</td><td>45,107.82</td></tr><tr><td>3131287965427595776</td><td>1702931513</td><td>2020-10-31</td><td>10</td><td>2020</td><td>8,226.87</td><td>1,627.26</td><td>37,476.59</td></tr><tr><td>3131287965427595776</td><td>1702931513</td><td>2020-07-31</td><td>7</td><td>2020</td><td>7,111.60</td><td>1,353.03</td><td>24,095.62</td></tr></tbody></table></div>"
      ]
     },
     "metadata": {
      "application/vnd.databricks.v1+output": {
       "addedWidgets": {},
       "aggData": [],
       "aggError": "",
       "aggOverflow": false,
       "aggSchema": [],
       "aggSeriesLimitReached": false,
       "aggType": "",
       "arguments": {},
       "columnCustomDisplayInfos": {},
       "data": [
        [
         3138902864818696704,
         "7288945713",
         "2020-02-29",
         2,
         2020,
         "1,258.88",
         "0.00",
         "1,258.88"
        ],
        [
         3138902864818696704,
         "7288945713",
         "2020-11-30",
         11,
         2020,
         "0.00",
         "0.00",
         "1,606.62"
        ],
        [
         3138902864818696704,
         "7288945713",
         "2020-10-31",
         10,
         2020,
         "347.74",
         "0.00",
         "1,606.62"
        ],
        [
         3138902864818696704,
         "7288945713",
         "2020-07-31",
         7,
         2020,
         "0.00",
         "0.00",
         "1,258.88"
        ],
        [
         3138902864818696704,
         "7288945713",
         "2020-08-31",
         8,
         2020,
         "0.00",
         "0.00",
         "1,258.88"
        ],
        [
         3138902864818696704,
         "7288945713",
         "2020-04-30",
         4,
         2020,
         "0.00",
         "0.00",
         "1,258.88"
        ],
        [
         3138902864818696704,
         "7288945713",
         "2020-09-30",
         9,
         2020,
         "0.00",
         "0.00",
         "1,258.88"
        ],
        [
         3138902864818696704,
         "7288945713",
         "2020-05-31",
         5,
         2020,
         "0.00",
         "0.00",
         "1,258.88"
        ],
        [
         3138902864818696704,
         "7288945713",
         "2020-03-31",
         3,
         2020,
         "0.00",
         "0.00",
         "1,258.88"
        ],
        [
         3138902864818696704,
         "7288945713",
         "2020-06-30",
         6,
         2020,
         "0.00",
         "0.00",
         "1,258.88"
        ],
        [
         3138902864818696704,
         "7288945713",
         "2020-01-31",
         1,
         2020,
         "0.00",
         "0.00",
         "0.00"
        ],
        [
         3138902864818696704,
         "7288945713",
         "2020-12-31",
         12,
         2020,
         "0.00",
         "0.00",
         "1,606.62"
        ],
        [
         100642855136823056,
         "5850552478",
         "2020-02-29",
         2,
         2020,
         "1,328.13",
         "1,694.06",
         "-365.93"
        ],
        [
         100642855136823056,
         "5850552478",
         "2020-11-30",
         11,
         2020,
         "0.00",
         "0.00",
         "4,066.60"
        ],
        [
         100642855136823056,
         "5850552478",
         "2020-10-31",
         10,
         2020,
         "0.00",
         "29.37",
         "4,066.60"
        ],
        [
         100642855136823056,
         "5850552478",
         "2020-07-31",
         7,
         2020,
         "0.00",
         "0.00",
         "-798.33"
        ],
        [
         100642855136823056,
         "5850552478",
         "2020-08-31",
         8,
         2020,
         "3,247.11",
         "290.35",
         "2,158.43"
        ],
        [
         100642855136823056,
         "5850552478",
         "2020-04-30",
         4,
         2020,
         "0.00",
         "0.00",
         "-365.93"
        ],
        [
         100642855136823056,
         "5850552478",
         "2020-09-30",
         9,
         2020,
         "1,937.54",
         "0.00",
         "4,095.97"
        ],
        [
         100642855136823056,
         "5850552478",
         "2020-05-31",
         5,
         2020,
         "858.33",
         "1,290.73",
         "-798.33"
        ],
        [
         100642855136823056,
         "5850552478",
         "2020-03-31",
         3,
         2020,
         "0.00",
         "0.00",
         "-365.93"
        ],
        [
         100642855136823056,
         "5850552478",
         "2020-06-30",
         6,
         2020,
         "0.00",
         "0.00",
         "-798.33"
        ],
        [
         100642855136823056,
         "5850552478",
         "2020-01-31",
         1,
         2020,
         "0.00",
         "0.00",
         "0.00"
        ],
        [
         100642855136823056,
         "5850552478",
         "2020-12-31",
         12,
         2020,
         "0.00",
         "0.00",
         "4,066.60"
        ],
        [
         131238438489095520,
         "7042116325",
         "2020-02-29",
         2,
         2020,
         "232.73",
         "1,471.58",
         "549.28"
        ],
        [
         131238438489095520,
         "7042116325",
         "2020-11-30",
         11,
         2020,
         "435.06",
         "2,020.36",
         "2,121.71"
        ],
        [
         131238438489095520,
         "7042116325",
         "2020-10-31",
         10,
         2020,
         "0.00",
         "0.00",
         "3,707.01"
        ],
        [
         131238438489095520,
         "7042116325",
         "2020-07-31",
         7,
         2020,
         "0.00",
         "0.00",
         "5,392.94"
        ],
        [
         131238438489095520,
         "7042116325",
         "2020-08-31",
         8,
         2020,
         "126.74",
         "0.00",
         "5,519.68"
        ],
        [
         131238438489095520,
         "7042116325",
         "2020-04-30",
         4,
         2020,
         "2,682.78",
         "0.00",
         "3,816.69"
        ],
        [
         131238438489095520,
         "7042116325",
         "2020-09-30",
         9,
         2020,
         "0.00",
         "1,812.67",
         "3,707.01"
        ],
        [
         131238438489095520,
         "7042116325",
         "2020-05-31",
         5,
         2020,
         "0.00",
         "1,595.14",
         "2,221.55"
        ],
        [
         131238438489095520,
         "7042116325",
         "2020-03-31",
         3,
         2020,
         "1,960.69",
         "1,376.06",
         "1,133.91"
        ],
        [
         131238438489095520,
         "7042116325",
         "2020-06-30",
         6,
         2020,
         "3,171.39",
         "0.00",
         "5,392.94"
        ],
        [
         131238438489095520,
         "7042116325",
         "2020-01-31",
         1,
         2020,
         "1,788.13",
         "0.00",
         "1,788.13"
        ],
        [
         131238438489095520,
         "7042116325",
         "2020-12-31",
         12,
         2020,
         "2,441.82",
         "0.00",
         "4,563.53"
        ],
        [
         2757978057966371328,
         "7222821574",
         "2020-02-29",
         2,
         2020,
         "0.00",
         "0.00",
         "4,968.80"
        ],
        [
         2757978057966371328,
         "7222821574",
         "2020-11-30",
         11,
         2020,
         "5,543.65",
         "1,093.76",
         "18,888.61"
        ],
        [
         2757978057966371328,
         "7222821574",
         "2020-10-31",
         10,
         2020,
         "1,033.24",
         "839.62",
         "14,438.72"
        ],
        [
         2757978057966371328,
         "7222821574",
         "2020-07-31",
         7,
         2020,
         "894.01",
         "2,201.77",
         "11,226.45"
        ],
        [
         2757978057966371328,
         "7222821574",
         "2020-08-31",
         8,
         2020,
         "1,474.20",
         "0.00",
         "12,700.65"
        ],
        [
         2757978057966371328,
         "7222821574",
         "2020-04-30",
         4,
         2020,
         "1,137.14",
         "0.00",
         "8,743.22"
        ],
        [
         2757978057966371328,
         "7222821574",
         "2020-09-30",
         9,
         2020,
         "2,960.35",
         "1,415.90",
         "14,245.10"
        ],
        [
         2757978057966371328,
         "7222821574",
         "2020-05-31",
         5,
         2020,
         "3,408.47",
         "2,031.94",
         "10,119.75"
        ],
        [
         2757978057966371328,
         "7222821574",
         "2020-03-31",
         3,
         2020,
         "3,543.52",
         "906.24",
         "7,606.08"
        ],
        [
         2757978057966371328,
         "7222821574",
         "2020-06-30",
         6,
         2020,
         "2,414.46",
         "0.00",
         "12,534.21"
        ],
        [
         2757978057966371328,
         "7222821574",
         "2020-01-31",
         1,
         2020,
         "5,375.19",
         "406.39",
         "4,968.80"
        ],
        [
         2757978057966371328,
         "7222821574",
         "2020-12-31",
         12,
         2020,
         "759.64",
         "675.06",
         "18,973.19"
        ],
        [
         2843209407475340288,
         "8535787957",
         "2020-02-29",
         2,
         2020,
         "6,602.03",
         "0.00",
         "6,082.09"
        ],
        [
         2843209407475340288,
         "8535787957",
         "2020-11-30",
         11,
         2020,
         "0.00",
         "750.00",
         "14,490.59"
        ],
        [
         2843209407475340288,
         "8535787957",
         "2020-10-31",
         10,
         2020,
         "6,119.58",
         "0.00",
         "15,240.59"
        ],
        [
         2843209407475340288,
         "8535787957",
         "2020-07-31",
         7,
         2020,
         "1,912.13",
         "0.00",
         "6,336.34"
        ],
        [
         2843209407475340288,
         "8535787957",
         "2020-08-31",
         8,
         2020,
         "2,051.28",
         "1,844.35",
         "6,543.27"
        ],
        [
         2843209407475340288,
         "8535787957",
         "2020-04-30",
         4,
         2020,
         "2,602.12",
         "2,954.37",
         "5,733.78"
        ],
        [
         2843209407475340288,
         "8535787957",
         "2020-09-30",
         9,
         2020,
         "2,577.74",
         "0.00",
         "9,121.01"
        ],
        [
         2843209407475340288,
         "8535787957",
         "2020-05-31",
         5,
         2020,
         "2,162.43",
         "1,748.89",
         "6,147.32"
        ],
        [
         2843209407475340288,
         "8535787957",
         "2020-03-31",
         3,
         2020,
         "1,879.34",
         "1,875.40",
         "6,086.03"
        ],
        [
         2843209407475340288,
         "8535787957",
         "2020-06-30",
         6,
         2020,
         "1,500.09",
         "3,223.20",
         "4,424.21"
        ],
        [
         2843209407475340288,
         "8535787957",
         "2020-01-31",
         1,
         2020,
         "0.00",
         "519.94",
         "-519.94"
        ],
        [
         2843209407475340288,
         "8535787957",
         "2020-12-31",
         12,
         2020,
         "439.50",
         "0.00",
         "14,930.09"
        ],
        [
         1603504635694834432,
         "8781344840",
         "2020-02-29",
         2,
         2020,
         "1,309.70",
         "0.00",
         "4,338.46"
        ],
        [
         1603504635694834432,
         "8781344840",
         "2020-11-30",
         11,
         2020,
         "4,902.85",
         "423.13",
         "18,367.69"
        ],
        [
         1603504635694834432,
         "8781344840",
         "2020-10-31",
         10,
         2020,
         "10,840.19",
         "4,478.79",
         "13,887.97"
        ],
        [
         1603504635694834432,
         "8781344840",
         "2020-07-31",
         7,
         2020,
         "2,963.68",
         "0.00",
         "5,418.25"
        ],
        [
         1603504635694834432,
         "8781344840",
         "2020-08-31",
         8,
         2020,
         "4,006.53",
         "2,879.62",
         "6,545.16"
        ],
        [
         1603504635694834432,
         "8781344840",
         "2020-04-30",
         4,
         2020,
         "2,410.18",
         "1,249.19",
         "6,292.92"
        ],
        [
         1603504635694834432,
         "8781344840",
         "2020-09-30",
         9,
         2020,
         "3,717.56",
         "2,736.15",
         "7,526.57"
        ],
        [
         1603504635694834432,
         "8781344840",
         "2020-05-31",
         5,
         2020,
         "0.00",
         "964.00",
         "5,328.92"
        ],
        [
         1603504635694834432,
         "8781344840",
         "2020-03-31",
         3,
         2020,
         "3,284.10",
         "2,490.63",
         "5,131.93"
        ],
        [
         1603504635694834432,
         "8781344840",
         "2020-06-30",
         6,
         2020,
         "694.25",
         "3,568.60",
         "2,454.57"
        ],
        [
         1603504635694834432,
         "8781344840",
         "2020-01-31",
         1,
         2020,
         "3,028.76",
         "0.00",
         "3,028.76"
        ],
        [
         1603504635694834432,
         "8781344840",
         "2020-12-31",
         12,
         2020,
         "6,570.69",
         "1,521.59",
         "23,416.79"
        ],
        [
         2333772134024125952,
         "6682069965",
         "2020-02-29",
         2,
         2020,
         "2,465.61",
         "877.88",
         "4,891.93"
        ],
        [
         2333772134024125952,
         "6682069965",
         "2020-11-30",
         11,
         2020,
         "9,288.58",
         "0.00",
         "39,809.99"
        ],
        [
         2333772134024125952,
         "6682069965",
         "2020-10-31",
         10,
         2020,
         "3,779.73",
         "287.72",
         "30,521.41"
        ],
        [
         2333772134024125952,
         "6682069965",
         "2020-07-31",
         7,
         2020,
         "5,822.73",
         "0.00",
         "24,600.97"
        ],
        [
         2333772134024125952,
         "6682069965",
         "2020-08-31",
         8,
         2020,
         "2,150.26",
         "3,059.16",
         "23,692.07"
        ],
        [
         2333772134024125952,
         "6682069965",
         "2020-04-30",
         4,
         2020,
         "3,886.70",
         "0.00",
         "12,557.56"
        ],
        [
         2333772134024125952,
         "6682069965",
         "2020-09-30",
         9,
         2020,
         "6,188.32",
         "2,850.99",
         "27,029.40"
        ],
        [
         2333772134024125952,
         "6682069965",
         "2020-05-31",
         5,
         2020,
         "5,214.38",
         "581.59",
         "17,190.35"
        ],
        [
         2333772134024125952,
         "6682069965",
         "2020-03-31",
         3,
         2020,
         "6,965.50",
         "3,186.57",
         "8,670.86"
        ],
        [
         2333772134024125952,
         "6682069965",
         "2020-06-30",
         6,
         2020,
         "1,587.89",
         "0.00",
         "18,778.24"
        ],
        [
         2333772134024125952,
         "6682069965",
         "2020-01-31",
         1,
         2020,
         "3,304.20",
         "0.00",
         "3,304.20"
        ],
        [
         2333772134024125952,
         "6682069965",
         "2020-12-31",
         12,
         2020,
         "4,082.69",
         "1,066.00",
         "42,826.68"
        ],
        [
         1258893518900815360,
         "7386912678",
         "2020-02-29",
         2,
         2020,
         "980.26",
         "0.00",
         "1,479.11"
        ],
        [
         1258893518900815360,
         "7386912678",
         "2020-11-30",
         11,
         2020,
         "2,021.31",
         "1,563.24",
         "37,995.00"
        ],
        [
         1258893518900815360,
         "7386912678",
         "2020-10-31",
         10,
         2020,
         "4,127.33",
         "0.00",
         "37,536.93"
        ],
        [
         1258893518900815360,
         "7386912678",
         "2020-07-31",
         7,
         2020,
         "4,887.68",
         "1,953.95",
         "22,321.11"
        ],
        [
         1258893518900815360,
         "7386912678",
         "2020-08-31",
         8,
         2020,
         "7,595.62",
         "2,211.70",
         "27,705.03"
        ],
        [
         1258893518900815360,
         "7386912678",
         "2020-04-30",
         4,
         2020,
         "4,289.01",
         "1,697.21",
         "8,646.63"
        ],
        [
         1258893518900815360,
         "7386912678",
         "2020-09-30",
         9,
         2020,
         "5,704.57",
         "0.00",
         "33,409.60"
        ],
        [
         1258893518900815360,
         "7386912678",
         "2020-05-31",
         5,
         2020,
         "6,776.34",
         "1,191.34",
         "14,231.63"
        ],
        [
         1258893518900815360,
         "7386912678",
         "2020-03-31",
         3,
         2020,
         "7,795.88",
         "3,220.16",
         "6,054.83"
        ],
        [
         1258893518900815360,
         "7386912678",
         "2020-06-30",
         6,
         2020,
         "8,065.35",
         "2,909.60",
         "19,387.38"
        ],
        [
         1258893518900815360,
         "7386912678",
         "2020-01-31",
         1,
         2020,
         "2,895.73",
         "2,396.88",
         "498.85"
        ],
        [
         1258893518900815360,
         "7386912678",
         "2020-12-31",
         12,
         2020,
         "6,018.48",
         "33.52",
         "43,979.96"
        ],
        [
         3131287965427595776,
         "1702931513",
         "2020-02-29",
         2,
         2020,
         "4,580.89",
         "1,607.84",
         "195.76"
        ],
        [
         3131287965427595776,
         "1702931513",
         "2020-11-30",
         11,
         2020,
         "10,088.58",
         "2,457.35",
         "45,107.82"
        ],
        [
         3131287965427595776,
         "1702931513",
         "2020-10-31",
         10,
         2020,
         "8,226.87",
         "1,627.26",
         "37,476.59"
        ],
        [
         3131287965427595776,
         "1702931513",
         "2020-07-31",
         7,
         2020,
         "7,111.60",
         "1,353.03",
         "24,095.62"
        ]
       ],
       "datasetInfos": [],
       "dbfsResultPath": null,
       "isJsonSchema": true,
       "metadata": {},
       "overflow": false,
       "plotOptions": {
        "customPlotOptions": {},
        "displayType": "table",
        "pivotAggregation": null,
        "pivotColumns": null,
        "xColumns": null,
        "yColumns": null
       },
       "removedWidgets": [],
       "schema": [
        {
         "metadata": "{}",
         "name": "account_id",
         "type": "\"long\""
        },
        {
         "metadata": "{}",
         "name": "account",
         "type": "\"string\""
        },
        {
         "metadata": "{}",
         "name": "ultimo_dia_mes",
         "type": "\"date\""
        },
        {
         "metadata": "{}",
         "name": "mes",
         "type": "\"integer\""
        },
        {
         "metadata": "{}",
         "name": "ano",
         "type": "\"integer\""
        },
        {
         "metadata": "{}",
         "name": "total_entrada",
         "type": "\"string\""
        },
        {
         "metadata": "{}",
         "name": "total_saida",
         "type": "\"string\""
        },
        {
         "metadata": "{}",
         "name": "saldo_final",
         "type": "\"string\""
        }
       ],
       "type": "table"
      }
     },
     "output_type": "display_data"
    }
   ],
   "source": [
    "%sql \n",
    "SELECT * FROM gold.agg_saldo_mensal LIMIT 100"
   ]
  },
  {
   "cell_type": "markdown",
   "metadata": {
    "application/vnd.databricks.v1+cell": {
     "cellMetadata": {
      "byteLimit": 2048000,
      "rowLimit": 10000
     },
     "inputWidgets": {},
     "nuid": "f7977432-80b1-418f-ab13-bfa2a62b2d0e",
     "showTitle": false,
     "title": ""
    }
   },
   "source": [
    "### Exemplos de Accounts e Saldo Mensal"
   ]
  },
  {
   "cell_type": "markdown",
   "metadata": {
    "application/vnd.databricks.v1+cell": {
     "cellMetadata": {
      "byteLimit": 2048000,
      "rowLimit": 10000
     },
     "inputWidgets": {},
     "nuid": "a999f49d-a8a7-4805-a4ce-c9a0e8dc03b9",
     "showTitle": false,
     "title": ""
    }
   },
   "source": [
    "#### Account com algum registro de entrada igual a zero"
   ]
  },
  {
   "cell_type": "code",
   "execution_count": 0,
   "metadata": {
    "application/vnd.databricks.v1+cell": {
     "cellMetadata": {
      "byteLimit": 2048000,
      "implicitDf": true,
      "rowLimit": 10000
     },
     "inputWidgets": {},
     "nuid": "df644858-4f31-4c96-8d47-50d2e3e3fba8",
     "showTitle": false,
     "title": ""
    }
   },
   "outputs": [
    {
     "output_type": "display_data",
     "data": {
      "text/html": [
       "<style scoped>\n",
       "  .table-result-container {\n",
       "    max-height: 300px;\n",
       "    overflow: auto;\n",
       "  }\n",
       "  table, th, td {\n",
       "    border: 1px solid black;\n",
       "    border-collapse: collapse;\n",
       "  }\n",
       "  th, td {\n",
       "    padding: 5px;\n",
       "  }\n",
       "  th {\n",
       "    text-align: left;\n",
       "  }\n",
       "</style><div class='table-result-container'><table class='table-result'><thead style='background-color: white'><tr><th>account_id</th><th>account</th><th>ultimo_dia_mes</th><th>mes</th><th>ano</th><th>total_entrada</th><th>total_saida</th><th>saldo_final</th></tr></thead><tbody><tr><td>1910868644230470</td><td>5355495934</td><td>2020-01-31</td><td>1</td><td>2020</td><td>6,149.17</td><td>0.00</td><td>6,149.17</td></tr><tr><td>1910868644230470</td><td>5355495934</td><td>2020-02-29</td><td>2</td><td>2020</td><td>5,892.90</td><td>1,271.45</td><td>10,770.62</td></tr><tr><td>1910868644230470</td><td>5355495934</td><td>2020-03-31</td><td>3</td><td>2020</td><td>3,617.12</td><td>3,023.60</td><td>11,364.14</td></tr><tr><td>1910868644230470</td><td>5355495934</td><td>2020-04-30</td><td>4</td><td>2020</td><td>8,191.25</td><td>1,869.75</td><td>17,685.64</td></tr><tr><td>1910868644230470</td><td>5355495934</td><td>2020-05-31</td><td>5</td><td>2020</td><td>3,055.01</td><td>5,386.48</td><td>15,354.17</td></tr><tr><td>1910868644230470</td><td>5355495934</td><td>2020-06-30</td><td>6</td><td>2020</td><td>5,681.79</td><td>2,474.06</td><td>18,561.90</td></tr><tr><td>1910868644230470</td><td>5355495934</td><td>2020-07-31</td><td>7</td><td>2020</td><td>1,595.52</td><td>1,279.43</td><td>18,877.99</td></tr><tr><td>1910868644230470</td><td>5355495934</td><td>2020-08-31</td><td>8</td><td>2020</td><td>8,438.21</td><td>7,065.54</td><td>20,250.66</td></tr><tr><td>1910868644230470</td><td>5355495934</td><td>2020-09-30</td><td>9</td><td>2020</td><td>0.00</td><td>2,353.51</td><td>17,897.15</td></tr><tr><td>1910868644230470</td><td>5355495934</td><td>2020-10-31</td><td>10</td><td>2020</td><td>1,787.24</td><td>2,125.77</td><td>17,558.62</td></tr><tr><td>1910868644230470</td><td>5355495934</td><td>2020-11-30</td><td>11</td><td>2020</td><td>2,093.28</td><td>0.00</td><td>19,651.90</td></tr><tr><td>1910868644230470</td><td>5355495934</td><td>2020-12-31</td><td>12</td><td>2020</td><td>8,556.78</td><td>0.00</td><td>28,208.68</td></tr></tbody></table></div>"
      ]
     },
     "metadata": {
      "application/vnd.databricks.v1+output": {
       "addedWidgets": {},
       "aggData": [],
       "aggError": "",
       "aggOverflow": false,
       "aggSchema": [],
       "aggSeriesLimitReached": false,
       "aggType": "",
       "arguments": {},
       "columnCustomDisplayInfos": {},
       "data": [
        [
         1910868644230470,
         "5355495934",
         "2020-01-31",
         1,
         2020,
         "6,149.17",
         "0.00",
         "6,149.17"
        ],
        [
         1910868644230470,
         "5355495934",
         "2020-02-29",
         2,
         2020,
         "5,892.90",
         "1,271.45",
         "10,770.62"
        ],
        [
         1910868644230470,
         "5355495934",
         "2020-03-31",
         3,
         2020,
         "3,617.12",
         "3,023.60",
         "11,364.14"
        ],
        [
         1910868644230470,
         "5355495934",
         "2020-04-30",
         4,
         2020,
         "8,191.25",
         "1,869.75",
         "17,685.64"
        ],
        [
         1910868644230470,
         "5355495934",
         "2020-05-31",
         5,
         2020,
         "3,055.01",
         "5,386.48",
         "15,354.17"
        ],
        [
         1910868644230470,
         "5355495934",
         "2020-06-30",
         6,
         2020,
         "5,681.79",
         "2,474.06",
         "18,561.90"
        ],
        [
         1910868644230470,
         "5355495934",
         "2020-07-31",
         7,
         2020,
         "1,595.52",
         "1,279.43",
         "18,877.99"
        ],
        [
         1910868644230470,
         "5355495934",
         "2020-08-31",
         8,
         2020,
         "8,438.21",
         "7,065.54",
         "20,250.66"
        ],
        [
         1910868644230470,
         "5355495934",
         "2020-09-30",
         9,
         2020,
         "0.00",
         "2,353.51",
         "17,897.15"
        ],
        [
         1910868644230470,
         "5355495934",
         "2020-10-31",
         10,
         2020,
         "1,787.24",
         "2,125.77",
         "17,558.62"
        ],
        [
         1910868644230470,
         "5355495934",
         "2020-11-30",
         11,
         2020,
         "2,093.28",
         "0.00",
         "19,651.90"
        ],
        [
         1910868644230470,
         "5355495934",
         "2020-12-31",
         12,
         2020,
         "8,556.78",
         "0.00",
         "28,208.68"
        ]
       ],
       "datasetInfos": [],
       "dbfsResultPath": null,
       "isJsonSchema": true,
       "metadata": {},
       "overflow": false,
       "plotOptions": {
        "customPlotOptions": {},
        "displayType": "table",
        "pivotAggregation": null,
        "pivotColumns": null,
        "xColumns": null,
        "yColumns": null
       },
       "removedWidgets": [],
       "schema": [
        {
         "metadata": "{}",
         "name": "account_id",
         "type": "\"long\""
        },
        {
         "metadata": "{}",
         "name": "account",
         "type": "\"string\""
        },
        {
         "metadata": "{}",
         "name": "ultimo_dia_mes",
         "type": "\"date\""
        },
        {
         "metadata": "{}",
         "name": "mes",
         "type": "\"integer\""
        },
        {
         "metadata": "{}",
         "name": "ano",
         "type": "\"integer\""
        },
        {
         "metadata": "{}",
         "name": "total_entrada",
         "type": "\"string\""
        },
        {
         "metadata": "{}",
         "name": "total_saida",
         "type": "\"string\""
        },
        {
         "metadata": "{}",
         "name": "saldo_final",
         "type": "\"string\""
        }
       ],
       "type": "table"
      }
     },
     "output_type": "display_data"
    }
   ],
   "source": [
    "%sql \n",
    "SELECT * FROM gold.agg_saldo_mensal where account_id = 1910868644230470 order by account_id, ultimo_dia_mes"
   ]
  },
  {
   "cell_type": "markdown",
   "metadata": {
    "application/vnd.databricks.v1+cell": {
     "cellMetadata": {
      "byteLimit": 2048000,
      "rowLimit": 10000
     },
     "inputWidgets": {},
     "nuid": "3ee87594-d5cb-401e-985e-e24c95585882",
     "showTitle": false,
     "title": ""
    }
   },
   "source": [
    "#### Account com algum mes com entrada e saida zerado, ou seja, sem movimentacao no mês"
   ]
  },
  {
   "cell_type": "code",
   "execution_count": 0,
   "metadata": {
    "application/vnd.databricks.v1+cell": {
     "cellMetadata": {
      "byteLimit": 2048000,
      "implicitDf": true,
      "rowLimit": 10000
     },
     "inputWidgets": {},
     "nuid": "ec32adbd-551b-498f-b0f0-b4c2bf65476a",
     "showTitle": false,
     "title": ""
    }
   },
   "outputs": [
    {
     "output_type": "display_data",
     "data": {
      "text/html": [
       "<style scoped>\n",
       "  .table-result-container {\n",
       "    max-height: 300px;\n",
       "    overflow: auto;\n",
       "  }\n",
       "  table, th, td {\n",
       "    border: 1px solid black;\n",
       "    border-collapse: collapse;\n",
       "  }\n",
       "  th, td {\n",
       "    padding: 5px;\n",
       "  }\n",
       "  th {\n",
       "    text-align: left;\n",
       "  }\n",
       "</style><div class='table-result-container'><table class='table-result'><thead style='background-color: white'><tr><th>account_id</th><th>account</th><th>ultimo_dia_mes</th><th>mes</th><th>ano</th><th>total_entrada</th><th>total_saida</th><th>saldo_final</th></tr></thead><tbody><tr><td>100642855136823056</td><td>5850552478</td><td>2020-01-31</td><td>1</td><td>2020</td><td>0.00</td><td>0.00</td><td>0.00</td></tr><tr><td>100642855136823056</td><td>5850552478</td><td>2020-02-29</td><td>2</td><td>2020</td><td>1,328.13</td><td>1,694.06</td><td>-365.93</td></tr><tr><td>100642855136823056</td><td>5850552478</td><td>2020-03-31</td><td>3</td><td>2020</td><td>0.00</td><td>0.00</td><td>-365.93</td></tr><tr><td>100642855136823056</td><td>5850552478</td><td>2020-04-30</td><td>4</td><td>2020</td><td>0.00</td><td>0.00</td><td>-365.93</td></tr><tr><td>100642855136823056</td><td>5850552478</td><td>2020-05-31</td><td>5</td><td>2020</td><td>858.33</td><td>1,290.73</td><td>-798.33</td></tr><tr><td>100642855136823056</td><td>5850552478</td><td>2020-06-30</td><td>6</td><td>2020</td><td>0.00</td><td>0.00</td><td>-798.33</td></tr><tr><td>100642855136823056</td><td>5850552478</td><td>2020-07-31</td><td>7</td><td>2020</td><td>0.00</td><td>0.00</td><td>-798.33</td></tr><tr><td>100642855136823056</td><td>5850552478</td><td>2020-08-31</td><td>8</td><td>2020</td><td>3,247.11</td><td>290.35</td><td>2,158.43</td></tr><tr><td>100642855136823056</td><td>5850552478</td><td>2020-09-30</td><td>9</td><td>2020</td><td>1,937.54</td><td>0.00</td><td>4,095.97</td></tr><tr><td>100642855136823056</td><td>5850552478</td><td>2020-10-31</td><td>10</td><td>2020</td><td>0.00</td><td>29.37</td><td>4,066.60</td></tr><tr><td>100642855136823056</td><td>5850552478</td><td>2020-11-30</td><td>11</td><td>2020</td><td>0.00</td><td>0.00</td><td>4,066.60</td></tr><tr><td>100642855136823056</td><td>5850552478</td><td>2020-12-31</td><td>12</td><td>2020</td><td>0.00</td><td>0.00</td><td>4,066.60</td></tr></tbody></table></div>"
      ]
     },
     "metadata": {
      "application/vnd.databricks.v1+output": {
       "addedWidgets": {},
       "aggData": [],
       "aggError": "",
       "aggOverflow": false,
       "aggSchema": [],
       "aggSeriesLimitReached": false,
       "aggType": "",
       "arguments": {},
       "columnCustomDisplayInfos": {},
       "data": [
        [
         100642855136823056,
         "5850552478",
         "2020-01-31",
         1,
         2020,
         "0.00",
         "0.00",
         "0.00"
        ],
        [
         100642855136823056,
         "5850552478",
         "2020-02-29",
         2,
         2020,
         "1,328.13",
         "1,694.06",
         "-365.93"
        ],
        [
         100642855136823056,
         "5850552478",
         "2020-03-31",
         3,
         2020,
         "0.00",
         "0.00",
         "-365.93"
        ],
        [
         100642855136823056,
         "5850552478",
         "2020-04-30",
         4,
         2020,
         "0.00",
         "0.00",
         "-365.93"
        ],
        [
         100642855136823056,
         "5850552478",
         "2020-05-31",
         5,
         2020,
         "858.33",
         "1,290.73",
         "-798.33"
        ],
        [
         100642855136823056,
         "5850552478",
         "2020-06-30",
         6,
         2020,
         "0.00",
         "0.00",
         "-798.33"
        ],
        [
         100642855136823056,
         "5850552478",
         "2020-07-31",
         7,
         2020,
         "0.00",
         "0.00",
         "-798.33"
        ],
        [
         100642855136823056,
         "5850552478",
         "2020-08-31",
         8,
         2020,
         "3,247.11",
         "290.35",
         "2,158.43"
        ],
        [
         100642855136823056,
         "5850552478",
         "2020-09-30",
         9,
         2020,
         "1,937.54",
         "0.00",
         "4,095.97"
        ],
        [
         100642855136823056,
         "5850552478",
         "2020-10-31",
         10,
         2020,
         "0.00",
         "29.37",
         "4,066.60"
        ],
        [
         100642855136823056,
         "5850552478",
         "2020-11-30",
         11,
         2020,
         "0.00",
         "0.00",
         "4,066.60"
        ],
        [
         100642855136823056,
         "5850552478",
         "2020-12-31",
         12,
         2020,
         "0.00",
         "0.00",
         "4,066.60"
        ]
       ],
       "datasetInfos": [],
       "dbfsResultPath": null,
       "isJsonSchema": true,
       "metadata": {},
       "overflow": false,
       "plotOptions": {
        "customPlotOptions": {},
        "displayType": "table",
        "pivotAggregation": null,
        "pivotColumns": null,
        "xColumns": null,
        "yColumns": null
       },
       "removedWidgets": [],
       "schema": [
        {
         "metadata": "{}",
         "name": "account_id",
         "type": "\"long\""
        },
        {
         "metadata": "{}",
         "name": "account",
         "type": "\"string\""
        },
        {
         "metadata": "{}",
         "name": "ultimo_dia_mes",
         "type": "\"date\""
        },
        {
         "metadata": "{}",
         "name": "mes",
         "type": "\"integer\""
        },
        {
         "metadata": "{}",
         "name": "ano",
         "type": "\"integer\""
        },
        {
         "metadata": "{}",
         "name": "total_entrada",
         "type": "\"string\""
        },
        {
         "metadata": "{}",
         "name": "total_saida",
         "type": "\"string\""
        },
        {
         "metadata": "{}",
         "name": "saldo_final",
         "type": "\"string\""
        }
       ],
       "type": "table"
      }
     },
     "output_type": "display_data"
    }
   ],
   "source": [
    "%sql \n",
    "SELECT * FROM gold.agg_saldo_mensal where account_id = 100642855136823056 order by account_id, ultimo_dia_mes"
   ]
  },
  {
   "cell_type": "markdown",
   "metadata": {
    "application/vnd.databricks.v1+cell": {
     "cellMetadata": {
      "byteLimit": 2048000,
      "rowLimit": 10000
     },
     "inputWidgets": {},
     "nuid": "4378188e-559c-4fc2-8981-18c930c80180",
     "showTitle": false,
     "title": ""
    }
   },
   "source": [
    "#### Account com algum mês com saldo negativo"
   ]
  },
  {
   "cell_type": "code",
   "execution_count": 0,
   "metadata": {
    "application/vnd.databricks.v1+cell": {
     "cellMetadata": {
      "byteLimit": 2048000,
      "implicitDf": true,
      "rowLimit": 10000
     },
     "inputWidgets": {},
     "nuid": "96e568df-8321-411f-a546-d1638f5a14c0",
     "showTitle": false,
     "title": ""
    }
   },
   "outputs": [
    {
     "output_type": "display_data",
     "data": {
      "text/html": [
       "<style scoped>\n",
       "  .table-result-container {\n",
       "    max-height: 300px;\n",
       "    overflow: auto;\n",
       "  }\n",
       "  table, th, td {\n",
       "    border: 1px solid black;\n",
       "    border-collapse: collapse;\n",
       "  }\n",
       "  th, td {\n",
       "    padding: 5px;\n",
       "  }\n",
       "  th {\n",
       "    text-align: left;\n",
       "  }\n",
       "</style><div class='table-result-container'><table class='table-result'><thead style='background-color: white'><tr><th>account_id</th><th>account</th><th>ultimo_dia_mes</th><th>mes</th><th>ano</th><th>total_entrada</th><th>total_saida</th><th>saldo_final</th></tr></thead><tbody><tr><td>1972174676324008704</td><td>5231336687</td><td>2020-01-31</td><td>1</td><td>2020</td><td>1,029.00</td><td>0.00</td><td>1,029.00</td></tr><tr><td>1972174676324008704</td><td>5231336687</td><td>2020-02-29</td><td>2</td><td>2020</td><td>284.45</td><td>1,408.21</td><td>-94.76</td></tr><tr><td>1972174676324008704</td><td>5231336687</td><td>2020-03-31</td><td>3</td><td>2020</td><td>2,915.78</td><td>0.00</td><td>2,821.02</td></tr><tr><td>1972174676324008704</td><td>5231336687</td><td>2020-04-30</td><td>4</td><td>2020</td><td>1,527.80</td><td>1,274.08</td><td>3,074.74</td></tr><tr><td>1972174676324008704</td><td>5231336687</td><td>2020-05-31</td><td>5</td><td>2020</td><td>4,711.01</td><td>517.33</td><td>7,268.42</td></tr><tr><td>1972174676324008704</td><td>5231336687</td><td>2020-06-30</td><td>6</td><td>2020</td><td>2,934.85</td><td>602.66</td><td>9,600.61</td></tr><tr><td>1972174676324008704</td><td>5231336687</td><td>2020-07-31</td><td>7</td><td>2020</td><td>0.00</td><td>0.00</td><td>9,600.61</td></tr><tr><td>1972174676324008704</td><td>5231336687</td><td>2020-08-31</td><td>8</td><td>2020</td><td>4,273.19</td><td>0.00</td><td>13,873.80</td></tr><tr><td>1972174676324008704</td><td>5231336687</td><td>2020-09-30</td><td>9</td><td>2020</td><td>3,437.29</td><td>0.00</td><td>17,311.09</td></tr><tr><td>1972174676324008704</td><td>5231336687</td><td>2020-10-31</td><td>10</td><td>2020</td><td>753.67</td><td>2,282.09</td><td>15,782.67</td></tr><tr><td>1972174676324008704</td><td>5231336687</td><td>2020-11-30</td><td>11</td><td>2020</td><td>4,362.55</td><td>1,659.60</td><td>18,485.62</td></tr><tr><td>1972174676324008704</td><td>5231336687</td><td>2020-12-31</td><td>12</td><td>2020</td><td>766.04</td><td>4.89</td><td>19,246.77</td></tr></tbody></table></div>"
      ]
     },
     "metadata": {
      "application/vnd.databricks.v1+output": {
       "addedWidgets": {},
       "aggData": [],
       "aggError": "",
       "aggOverflow": false,
       "aggSchema": [],
       "aggSeriesLimitReached": false,
       "aggType": "",
       "arguments": {},
       "columnCustomDisplayInfos": {},
       "data": [
        [
         1972174676324008704,
         "5231336687",
         "2020-01-31",
         1,
         2020,
         "1,029.00",
         "0.00",
         "1,029.00"
        ],
        [
         1972174676324008704,
         "5231336687",
         "2020-02-29",
         2,
         2020,
         "284.45",
         "1,408.21",
         "-94.76"
        ],
        [
         1972174676324008704,
         "5231336687",
         "2020-03-31",
         3,
         2020,
         "2,915.78",
         "0.00",
         "2,821.02"
        ],
        [
         1972174676324008704,
         "5231336687",
         "2020-04-30",
         4,
         2020,
         "1,527.80",
         "1,274.08",
         "3,074.74"
        ],
        [
         1972174676324008704,
         "5231336687",
         "2020-05-31",
         5,
         2020,
         "4,711.01",
         "517.33",
         "7,268.42"
        ],
        [
         1972174676324008704,
         "5231336687",
         "2020-06-30",
         6,
         2020,
         "2,934.85",
         "602.66",
         "9,600.61"
        ],
        [
         1972174676324008704,
         "5231336687",
         "2020-07-31",
         7,
         2020,
         "0.00",
         "0.00",
         "9,600.61"
        ],
        [
         1972174676324008704,
         "5231336687",
         "2020-08-31",
         8,
         2020,
         "4,273.19",
         "0.00",
         "13,873.80"
        ],
        [
         1972174676324008704,
         "5231336687",
         "2020-09-30",
         9,
         2020,
         "3,437.29",
         "0.00",
         "17,311.09"
        ],
        [
         1972174676324008704,
         "5231336687",
         "2020-10-31",
         10,
         2020,
         "753.67",
         "2,282.09",
         "15,782.67"
        ],
        [
         1972174676324008704,
         "5231336687",
         "2020-11-30",
         11,
         2020,
         "4,362.55",
         "1,659.60",
         "18,485.62"
        ],
        [
         1972174676324008704,
         "5231336687",
         "2020-12-31",
         12,
         2020,
         "766.04",
         "4.89",
         "19,246.77"
        ]
       ],
       "datasetInfos": [],
       "dbfsResultPath": null,
       "isJsonSchema": true,
       "metadata": {},
       "overflow": false,
       "plotOptions": {
        "customPlotOptions": {},
        "displayType": "table",
        "pivotAggregation": null,
        "pivotColumns": null,
        "xColumns": null,
        "yColumns": null
       },
       "removedWidgets": [],
       "schema": [
        {
         "metadata": "{}",
         "name": "account_id",
         "type": "\"long\""
        },
        {
         "metadata": "{}",
         "name": "account",
         "type": "\"string\""
        },
        {
         "metadata": "{}",
         "name": "ultimo_dia_mes",
         "type": "\"date\""
        },
        {
         "metadata": "{}",
         "name": "mes",
         "type": "\"integer\""
        },
        {
         "metadata": "{}",
         "name": "ano",
         "type": "\"integer\""
        },
        {
         "metadata": "{}",
         "name": "total_entrada",
         "type": "\"string\""
        },
        {
         "metadata": "{}",
         "name": "total_saida",
         "type": "\"string\""
        },
        {
         "metadata": "{}",
         "name": "saldo_final",
         "type": "\"string\""
        }
       ],
       "type": "table"
      }
     },
     "output_type": "display_data"
    }
   ],
   "source": [
    "%sql \n",
    "SELECT * FROM gold.agg_saldo_mensal where account_id = 1972174676324008704 order by account_id, ultimo_dia_mes"
   ]
  },
  {
   "cell_type": "code",
   "execution_count": 0,
   "metadata": {
    "application/vnd.databricks.v1+cell": {
     "cellMetadata": {},
     "inputWidgets": {},
     "nuid": "64afb672-2074-419a-9ca1-83daa5c1e6ff",
     "showTitle": false,
     "title": ""
    }
   },
   "outputs": [],
   "source": []
  }
 ],
 "metadata": {
  "application/vnd.databricks.v1+notebook": {
   "dashboards": [],
   "environmentMetadata": null,
   "language": "python",
   "notebookMetadata": {
    "mostRecentlyExecutedCommandWithImplicitDF": {
     "commandId": 2977495270882142,
     "dataframes": [
      "_sqldf"
     ]
    },
    "pythonIndentUnit": 4
   },
   "notebookName": "main_script_report_balance",
   "widgets": {}
  }
 },
 "nbformat": 4,
 "nbformat_minor": 0
}
